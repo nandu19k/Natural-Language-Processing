{
  "nbformat": 4,
  "nbformat_minor": 0,
  "metadata": {
    "colab": {
      "name": "Laptop Recommender.ipynb",
      "provenance": []
    },
    "kernelspec": {
      "name": "python3",
      "display_name": "Python 3"
    }
  },
  "cells": [
    {
      "cell_type": "code",
      "metadata": {
        "id": "Z7FdPK_k7_RE"
      },
      "source": [
        "import numpy as np\n",
        "import pandas as pd"
      ],
      "execution_count": 1,
      "outputs": []
    },
    {
      "cell_type": "code",
      "metadata": {
        "id": "-HaLzmNCXLyI"
      },
      "source": [
        "dataset = pd.read_csv('ALL_LAPTOPS.csv')"
      ],
      "execution_count": 2,
      "outputs": []
    },
    {
      "cell_type": "code",
      "metadata": {
        "id": "EPLISjnAXRak",
        "outputId": "41682c43-96f8-4749-f9ac-5806d7c6ea83",
        "colab": {
          "base_uri": "https://localhost:8080/",
          "height": 589
        }
      },
      "source": [
        "dataset"
      ],
      "execution_count": 3,
      "outputs": [
        {
          "output_type": "execute_result",
          "data": {
            "text/html": [
              "<div>\n",
              "<style scoped>\n",
              "    .dataframe tbody tr th:only-of-type {\n",
              "        vertical-align: middle;\n",
              "    }\n",
              "\n",
              "    .dataframe tbody tr th {\n",
              "        vertical-align: top;\n",
              "    }\n",
              "\n",
              "    .dataframe thead th {\n",
              "        text-align: right;\n",
              "    }\n",
              "</style>\n",
              "<table border=\"1\" class=\"dataframe\">\n",
              "  <thead>\n",
              "    <tr style=\"text-align: right;\">\n",
              "      <th></th>\n",
              "      <th>BRAND</th>\n",
              "      <th>PRODUCT</th>\n",
              "      <th>PROCESSOR</th>\n",
              "      <th>RAM</th>\n",
              "      <th>HDD</th>\n",
              "      <th>SSD</th>\n",
              "      <th>GRAPHIC_CARD</th>\n",
              "      <th>DISPLAY</th>\n",
              "      <th>OPERATING_SYSTEM</th>\n",
              "      <th>PRICE</th>\n",
              "      <th>IMAGE</th>\n",
              "    </tr>\n",
              "  </thead>\n",
              "  <tbody>\n",
              "    <tr>\n",
              "      <th>0</th>\n",
              "      <td>Acer</td>\n",
              "      <td>Acer Predator 21 X GX21-71 Laptop (7th Gen Ci7...</td>\n",
              "      <td>Intel Core i7 7th Gen</td>\n",
              "      <td>64GB</td>\n",
              "      <td>1TB</td>\n",
              "      <td>1TB</td>\n",
              "      <td>16 GB NVIDIA Graphics Card</td>\n",
              "      <td>21.0</td>\n",
              "      <td>Windows 10</td>\n",
              "      <td>700000</td>\n",
              "      <td>https://cdn1.smartprix.com/rx-iQJZ4Kekd-w103-h...</td>\n",
              "    </tr>\n",
              "    <tr>\n",
              "      <th>1</th>\n",
              "      <td>Acer</td>\n",
              "      <td>Acer Predator Triton 700 PT715-51 (NH.Q2LSI.00...</td>\n",
              "      <td>Intel Core i7 7th Gen</td>\n",
              "      <td>16GB</td>\n",
              "      <td>NO</td>\n",
              "      <td>256GB</td>\n",
              "      <td>8 GB NVIDIA Graphics Card</td>\n",
              "      <td>15.6</td>\n",
              "      <td>Windows 10</td>\n",
              "      <td>300000</td>\n",
              "      <td>https://cdn1.smartprix.com/rx-iyRu0raJw-w103-h...</td>\n",
              "    </tr>\n",
              "    <tr>\n",
              "      <th>2</th>\n",
              "      <td>Acer</td>\n",
              "      <td>Acer Predator Triton 900 Laptop (8th Gen Core ...</td>\n",
              "      <td>Intel Core i7 8th Gen</td>\n",
              "      <td>16GB</td>\n",
              "      <td>NO</td>\n",
              "      <td>256GB</td>\n",
              "      <td>8 GB NVIDIA Graphics Card</td>\n",
              "      <td>17.3</td>\n",
              "      <td>Windows 10</td>\n",
              "      <td>300000</td>\n",
              "      <td>https://cdn1.smartprix.com/rx-i03FnxkQz-w103-h...</td>\n",
              "    </tr>\n",
              "    <tr>\n",
              "      <th>3</th>\n",
              "      <td>Acer</td>\n",
              "      <td>Acer Predator G9-793 (NH.Q1TSI.003) Notebook (...</td>\n",
              "      <td>Intel Core i7 7th Gen</td>\n",
              "      <td>16GB</td>\n",
              "      <td>NO</td>\n",
              "      <td>512GB</td>\n",
              "      <td>8 GB NVIDIA Graphics Card</td>\n",
              "      <td>17.3</td>\n",
              "      <td>Windows 10</td>\n",
              "      <td>190000</td>\n",
              "      <td>https://cdn1.smartprix.com/rx-ivQStJyZL-w103-h...</td>\n",
              "    </tr>\n",
              "    <tr>\n",
              "      <th>4</th>\n",
              "      <td>Acer</td>\n",
              "      <td>Acer Predator Helios 700 Gaming Laptop (9th Ge...</td>\n",
              "      <td>Intel Core i9 9th Gen</td>\n",
              "      <td>32GB</td>\n",
              "      <td>NO</td>\n",
              "      <td>2TB</td>\n",
              "      <td>8 GB NVIDIA Graphics Card</td>\n",
              "      <td>17.3</td>\n",
              "      <td>Windows 10</td>\n",
              "      <td>188000</td>\n",
              "      <td>https://cdn1.smartprix.com/rx-ibqrzzQad-w103-h...</td>\n",
              "    </tr>\n",
              "    <tr>\n",
              "      <th>...</th>\n",
              "      <td>...</td>\n",
              "      <td>...</td>\n",
              "      <td>...</td>\n",
              "      <td>...</td>\n",
              "      <td>...</td>\n",
              "      <td>...</td>\n",
              "      <td>...</td>\n",
              "      <td>...</td>\n",
              "      <td>...</td>\n",
              "      <td>...</td>\n",
              "      <td>...</td>\n",
              "    </tr>\n",
              "    <tr>\n",
              "      <th>5587</th>\n",
              "      <td>Lenovo</td>\n",
              "      <td>Lenovo Legion Y520 (80WK00FHUS) Laptop (7th Ge...</td>\n",
              "      <td>Intel Core i5 7th Gen</td>\n",
              "      <td>8GB</td>\n",
              "      <td>500GB</td>\n",
              "      <td>NO</td>\n",
              "      <td>Intel HD Graphics</td>\n",
              "      <td>15.6</td>\n",
              "      <td>Windows 8</td>\n",
              "      <td>14994</td>\n",
              "      <td>https://cdn1.smartprix.com/rx-i5nyjOYbZ-w103-h...</td>\n",
              "    </tr>\n",
              "    <tr>\n",
              "      <th>5588</th>\n",
              "      <td>Lenovo</td>\n",
              "      <td>Lenovo G50-45 (80E301N3IN) Notebook (AMD APU A...</td>\n",
              "      <td>AMD A8-6410</td>\n",
              "      <td>8GB</td>\n",
              "      <td>64GB</td>\n",
              "      <td>64GB</td>\n",
              "      <td>Integrated NVIDIA ULP GeForce</td>\n",
              "      <td>11.6</td>\n",
              "      <td>Windows 10</td>\n",
              "      <td>14500</td>\n",
              "      <td>https://cdn1.smartprix.com/rx-ie1PaSbHK-w103-h...</td>\n",
              "    </tr>\n",
              "    <tr>\n",
              "      <th>5589</th>\n",
              "      <td>Lenovo</td>\n",
              "      <td>Lenovo Ideapad Yoga 710 (80V40095IH) Laptop (7...</td>\n",
              "      <td>Intel Core i5 7200U 7th Gen</td>\n",
              "      <td>4GB</td>\n",
              "      <td>500GB</td>\n",
              "      <td>NO</td>\n",
              "      <td>Intel HD Graphics</td>\n",
              "      <td>10.1</td>\n",
              "      <td>Windows 8</td>\n",
              "      <td>13990</td>\n",
              "      <td>https://cdn1.smartprix.com/rx-i9s5mMCKw-w103-h...</td>\n",
              "    </tr>\n",
              "    <tr>\n",
              "      <th>5590</th>\n",
              "      <td>Lenovo</td>\n",
              "      <td>Lenovo Ideapad 300 (80Q700UEIN) Notebook (6th ...</td>\n",
              "      <td>Intel Core i5 6th Gen</td>\n",
              "      <td>4GB</td>\n",
              "      <td>1TB</td>\n",
              "      <td>NO</td>\n",
              "      <td>128 MB Intel Graphics Card</td>\n",
              "      <td>15.6</td>\n",
              "      <td>Windows 10</td>\n",
              "      <td>12497</td>\n",
              "      <td>https://cdn1.smartprix.com/rx-iOzOlhEUd-w103-h...</td>\n",
              "    </tr>\n",
              "    <tr>\n",
              "      <th>5591</th>\n",
              "      <td>Lenovo</td>\n",
              "      <td>Lenovo Ideapad 3 14IIL05 81WD00L1IN Laptop (10...</td>\n",
              "      <td>Intel Core i3 10th Gen</td>\n",
              "      <td>4GB</td>\n",
              "      <td>NO</td>\n",
              "      <td>32GB</td>\n",
              "      <td>Intel HD Graphics</td>\n",
              "      <td>10.1</td>\n",
              "      <td>Windows 10</td>\n",
              "      <td>6244</td>\n",
              "      <td>https://cdn1.smartprix.com/rx-ih6l16ICQ-w103-h...</td>\n",
              "    </tr>\n",
              "  </tbody>\n",
              "</table>\n",
              "<p>5592 rows × 11 columns</p>\n",
              "</div>"
            ],
            "text/plain": [
              "       BRAND  ...                                              IMAGE\n",
              "0       Acer  ...  https://cdn1.smartprix.com/rx-iQJZ4Kekd-w103-h...\n",
              "1       Acer  ...  https://cdn1.smartprix.com/rx-iyRu0raJw-w103-h...\n",
              "2       Acer  ...  https://cdn1.smartprix.com/rx-i03FnxkQz-w103-h...\n",
              "3       Acer  ...  https://cdn1.smartprix.com/rx-ivQStJyZL-w103-h...\n",
              "4       Acer  ...  https://cdn1.smartprix.com/rx-ibqrzzQad-w103-h...\n",
              "...      ...  ...                                                ...\n",
              "5587  Lenovo  ...  https://cdn1.smartprix.com/rx-i5nyjOYbZ-w103-h...\n",
              "5588  Lenovo  ...  https://cdn1.smartprix.com/rx-ie1PaSbHK-w103-h...\n",
              "5589  Lenovo  ...  https://cdn1.smartprix.com/rx-i9s5mMCKw-w103-h...\n",
              "5590  Lenovo  ...  https://cdn1.smartprix.com/rx-iOzOlhEUd-w103-h...\n",
              "5591  Lenovo  ...  https://cdn1.smartprix.com/rx-ih6l16ICQ-w103-h...\n",
              "\n",
              "[5592 rows x 11 columns]"
            ]
          },
          "metadata": {
            "tags": []
          },
          "execution_count": 3
        }
      ]
    },
    {
      "cell_type": "code",
      "metadata": {
        "id": "TNhQ1H9ewSfa",
        "outputId": "18e67586-3ff8-46e7-e6d5-24841944c378",
        "colab": {
          "base_uri": "https://localhost:8080/"
        }
      },
      "source": [
        "dataset.shape"
      ],
      "execution_count": 4,
      "outputs": [
        {
          "output_type": "execute_result",
          "data": {
            "text/plain": [
              "(5592, 11)"
            ]
          },
          "metadata": {
            "tags": []
          },
          "execution_count": 4
        }
      ]
    },
    {
      "cell_type": "code",
      "metadata": {
        "id": "jHnWE770pslu"
      },
      "source": [
        "dataset['PROCESSOR'] = dataset['PROCESSOR'].str.replace(\" \",'')"
      ],
      "execution_count": 5,
      "outputs": []
    },
    {
      "cell_type": "code",
      "metadata": {
        "id": "nF-3rMHFp4DA",
        "outputId": "87e18501-8f66-4a5c-829c-704ebaf6991c",
        "colab": {
          "base_uri": "https://localhost:8080/",
          "height": 35
        }
      },
      "source": [
        "dataset['PROCESSOR'][0]"
      ],
      "execution_count": 6,
      "outputs": [
        {
          "output_type": "execute_result",
          "data": {
            "application/vnd.google.colaboratory.intrinsic+json": {
              "type": "string"
            },
            "text/plain": [
              "'IntelCorei77thGen'"
            ]
          },
          "metadata": {
            "tags": []
          },
          "execution_count": 6
        }
      ]
    },
    {
      "cell_type": "code",
      "metadata": {
        "id": "7xAChdczqELZ",
        "outputId": "92e21849-1661-4d14-9b3e-20656edf1027",
        "colab": {
          "base_uri": "https://localhost:8080/",
          "height": 35
        }
      },
      "source": [
        "dataset['GRAPHIC_CARD'] = dataset['GRAPHIC_CARD'].str.replace(' ','')\n",
        "dataset['GRAPHIC_CARD'][0]"
      ],
      "execution_count": 7,
      "outputs": [
        {
          "output_type": "execute_result",
          "data": {
            "application/vnd.google.colaboratory.intrinsic+json": {
              "type": "string"
            },
            "text/plain": [
              "'16GBNVIDIAGraphicsCard'"
            ]
          },
          "metadata": {
            "tags": []
          },
          "execution_count": 7
        }
      ]
    },
    {
      "cell_type": "code",
      "metadata": {
        "id": "QNpiSaQSqYGE",
        "outputId": "26b747a6-d0c6-4158-a703-afa583dbb18b",
        "colab": {
          "base_uri": "https://localhost:8080/",
          "height": 35
        }
      },
      "source": [
        "dataset['OPERATING_SYSTEM'] = dataset['OPERATING_SYSTEM'].str.replace(' ','')\n",
        "dataset['OPERATING_SYSTEM'][0]"
      ],
      "execution_count": 8,
      "outputs": [
        {
          "output_type": "execute_result",
          "data": {
            "application/vnd.google.colaboratory.intrinsic+json": {
              "type": "string"
            },
            "text/plain": [
              "'Windows10'"
            ]
          },
          "metadata": {
            "tags": []
          },
          "execution_count": 8
        }
      ]
    },
    {
      "cell_type": "code",
      "metadata": {
        "id": "KemNOGl8Xaxu",
        "outputId": "837868bf-e9f5-448d-ef5e-bfd420fcb25b",
        "colab": {
          "base_uri": "https://localhost:8080/"
        }
      },
      "source": [
        "type(dataset['BRAND'][0])"
      ],
      "execution_count": 9,
      "outputs": [
        {
          "output_type": "execute_result",
          "data": {
            "text/plain": [
              "str"
            ]
          },
          "metadata": {
            "tags": []
          },
          "execution_count": 9
        }
      ]
    },
    {
      "cell_type": "code",
      "metadata": {
        "id": "KYMm6biAm0UM"
      },
      "source": [
        "dataset['PRICE'] = dataset[\"PRICE\"].astype(str)"
      ],
      "execution_count": 10,
      "outputs": []
    },
    {
      "cell_type": "code",
      "metadata": {
        "id": "Nhy8Ti8vnCRf",
        "outputId": "c9f5acaa-bbda-436b-fb79-09953d33b6cb",
        "colab": {
          "base_uri": "https://localhost:8080/",
          "height": 35
        }
      },
      "source": [
        "dataset['DISPLAY'] = dataset[\"DISPLAY\"].astype(str)\n",
        "dataset['DISPLAY'][0]"
      ],
      "execution_count": 11,
      "outputs": [
        {
          "output_type": "execute_result",
          "data": {
            "application/vnd.google.colaboratory.intrinsic+json": {
              "type": "string"
            },
            "text/plain": [
              "'21.0'"
            ]
          },
          "metadata": {
            "tags": []
          },
          "execution_count": 11
        }
      ]
    },
    {
      "cell_type": "code",
      "metadata": {
        "id": "5lvHKTsKm977",
        "outputId": "608fa482-1c77-48bc-ca50-7b95ddaeb3ec",
        "colab": {
          "base_uri": "https://localhost:8080/",
          "height": 35
        }
      },
      "source": [
        "dataset['PRICE'][0]"
      ],
      "execution_count": 12,
      "outputs": [
        {
          "output_type": "execute_result",
          "data": {
            "application/vnd.google.colaboratory.intrinsic+json": {
              "type": "string"
            },
            "text/plain": [
              "'700000'"
            ]
          },
          "metadata": {
            "tags": []
          },
          "execution_count": 12
        }
      ]
    },
    {
      "cell_type": "code",
      "metadata": {
        "id": "VpmxV-i9XsQI",
        "outputId": "a47285e4-1cbf-4a88-d8ee-f777c2686be4",
        "colab": {
          "base_uri": "https://localhost:8080/",
          "height": 35
        }
      },
      "source": [
        "dataset['PRODUCT'][0].split(' (')[0]"
      ],
      "execution_count": 13,
      "outputs": [
        {
          "output_type": "execute_result",
          "data": {
            "application/vnd.google.colaboratory.intrinsic+json": {
              "type": "string"
            },
            "text/plain": [
              "'Acer Predator 21 X GX21-71 Laptop'"
            ]
          },
          "metadata": {
            "tags": []
          },
          "execution_count": 13
        }
      ]
    },
    {
      "cell_type": "code",
      "metadata": {
        "id": "bWdQ48M2X8ml",
        "outputId": "e3a217a6-0e76-43ae-f2aa-dbf134b47a58",
        "colab": {
          "base_uri": "https://localhost:8080/",
          "height": 35
        }
      },
      "source": [
        "dataset['PRODUCT'][1]"
      ],
      "execution_count": 14,
      "outputs": [
        {
          "output_type": "execute_result",
          "data": {
            "application/vnd.google.colaboratory.intrinsic+json": {
              "type": "string"
            },
            "text/plain": [
              "'Acer Predator Triton 700 PT715-51 (NH.Q2LSI.002) Laptop (7th Gen Ci7/ 16GB/ 1TB/ Win10 Home/ 8GB Graph)'"
            ]
          },
          "metadata": {
            "tags": []
          },
          "execution_count": 14
        }
      ]
    },
    {
      "cell_type": "code",
      "metadata": {
        "id": "9veoLiOEYMhl",
        "outputId": "418ccd94-b962-4373-8a78-9a0e534934f0",
        "colab": {
          "base_uri": "https://localhost:8080/",
          "height": 35
        }
      },
      "source": [
        "dataset['PROCESSOR'][1]"
      ],
      "execution_count": 15,
      "outputs": [
        {
          "output_type": "execute_result",
          "data": {
            "application/vnd.google.colaboratory.intrinsic+json": {
              "type": "string"
            },
            "text/plain": [
              "'IntelCorei77thGen'"
            ]
          },
          "metadata": {
            "tags": []
          },
          "execution_count": 15
        }
      ]
    },
    {
      "cell_type": "code",
      "metadata": {
        "id": "x16MqGYnYg8v",
        "outputId": "efa9c46d-9594-4511-d226-b29fd7e12485",
        "colab": {
          "base_uri": "https://localhost:8080/",
          "height": 35
        }
      },
      "source": [
        "dataset['RAM'][0]"
      ],
      "execution_count": 16,
      "outputs": [
        {
          "output_type": "execute_result",
          "data": {
            "application/vnd.google.colaboratory.intrinsic+json": {
              "type": "string"
            },
            "text/plain": [
              "'64GB'"
            ]
          },
          "metadata": {
            "tags": []
          },
          "execution_count": 16
        }
      ]
    },
    {
      "cell_type": "code",
      "metadata": {
        "id": "YuueyJ_2YlwI"
      },
      "source": [
        "product = []\n",
        "\n",
        "for i in dataset['PRODUCT']:\n",
        "  temp = i.split(' (')[0]\n",
        "  product.append(temp)"
      ],
      "execution_count": 17,
      "outputs": []
    },
    {
      "cell_type": "code",
      "metadata": {
        "id": "S1-UtbxQYokc",
        "outputId": "19f346b9-b1ba-46ef-b9d9-7151fea1f9f6",
        "colab": {
          "base_uri": "https://localhost:8080/"
        }
      },
      "source": [
        "product"
      ],
      "execution_count": 18,
      "outputs": [
        {
          "output_type": "execute_result",
          "data": {
            "text/plain": [
              "['Acer Predator 21 X GX21-71 Laptop',\n",
              " 'Acer Predator Triton 700 PT715-51',\n",
              " 'Acer Predator Triton 900 Laptop',\n",
              " 'Acer Predator G9-793',\n",
              " 'Acer Predator Helios 700 Gaming Laptop',\n",
              " 'Acer Predator G9-793',\n",
              " 'Acer Predator G9-792',\n",
              " 'Acer Predator G9-591',\n",
              " 'Acer Predator PH317-51-787B Laptop',\n",
              " 'Acer Spin 5 SP513-52N-52PL',\n",
              " 'Acer Predator Triton 500',\n",
              " 'Acer Predator G9-593',\n",
              " 'Acer Predator Helios PH517-51',\n",
              " 'Acer Aspire Nitro VN7-591G-74LK',\n",
              " 'Acer Helios PH317-53',\n",
              " 'Acer Helios PH317-53',\n",
              " 'Acer SW512-52-76FM',\n",
              " 'Acer G3-572',\n",
              " 'Acer Swift 3 SF315-41-R6J9',\n",
              " 'Acer Swift 5 SF514-51-706K',\n",
              " 'Acer Predator Helios 300',\n",
              " 'Acer Predator G9-593',\n",
              " 'Acer Helios PH315-52 NH.Q53SI.012 Gaming Laptop',\n",
              " 'Acer Spin 7 SP714-51',\n",
              " 'Acer Predator Helios 300',\n",
              " 'Acer ConceptD 5 CN515-51 NX.C4JSI.001 Laptop',\n",
              " 'Acer Nitro 7 AN715-51',\n",
              " 'Acer Nitro 5 AN515-51-55WL Notebook',\n",
              " 'Acer ConceptD 5 CN515-51 NX.C4JSI.004 Laptop',\n",
              " 'Acer Predator Helios PH315-51',\n",
              " 'Acer Aspire VN7-591G',\n",
              " 'Acer G3-572',\n",
              " 'Acer Predator 17 G9-793',\n",
              " 'Acer Aspire V V5-472P Notebook',\n",
              " 'Acer Predator G9-593',\n",
              " 'Acer G3-572',\n",
              " 'Acer Predator Helios 300 PH315-52',\n",
              " 'Acer Helios PH317-53',\n",
              " 'Acer Predator Helios PH315-51 Gaming Laptop',\n",
              " 'Acer ConceptD 5 CN515-5 NX.C4JSI.002 Laptop',\n",
              " 'Acer Aspire V5-571 Laptop',\n",
              " 'Acer Aspire V3-571G Laptop',\n",
              " 'Acer Swift 5 SF514 Laptop',\n",
              " 'Acer Nitro Spin NP515-51',\n",
              " 'Acer Aspire R7-371T R-13',\n",
              " 'Acer Nitro 5 AN515-55-58EB NH.Q7NSI.001 Gaming Laptop',\n",
              " 'Acer Predator Triton 300',\n",
              " 'Acer Nitro 7 Slim Gaming Laptop',\n",
              " 'Acer Aspire Nitro VN7-591G',\n",
              " 'Acer Aspire V3-572G-54S6',\n",
              " 'Acer Nitro 5 AN515-55 UN.Q7RSI.004 Laptop',\n",
              " 'Acer Nitro 5 NP515-51 Notebook',\n",
              " 'Acer Nitro 5 AN515-51-522L',\n",
              " 'Acer Nitro 5 AN517-51 NH.Q5DSI.001 Gaming Laptop',\n",
              " 'Acer Nitro AN515-54',\n",
              " 'Acer Aspire V V5-472P Notebook',\n",
              " 'Acer Predator G9-593',\n",
              " 'Acer Nitro 5 AN515-51 Notebook',\n",
              " 'Acer Predator Helios PH315-51 Gaming Laptop',\n",
              " 'Acer Predator Helios 300 PH315-52',\n",
              " 'Acer Helios PH315-52 NH.Q53SI.013 Gaming Laptop',\n",
              " 'Acer Nitro 7 AN715-51 Gaming Laptop',\n",
              " 'Acer Aspire S7-391C Ultrabook',\n",
              " 'Acer Predator Helios PH315-51 Gaming Laptop',\n",
              " 'Acer G3-572',\n",
              " 'Acer Nitro 5 AN515-52',\n",
              " 'Acer Aspire S7-392 Ultrabook',\n",
              " 'Acer Aspire VN7-591G',\n",
              " 'Acer Swift 5 SF514-52T',\n",
              " 'Acer NITRO AN515-54',\n",
              " 'Acer Aspire R7-572G Laptop',\n",
              " 'Acer Predator Helios PH315-51 NH.Q47SI.002 Gaming Laptop',\n",
              " 'Acer Nitro 7 UN.Q5FSI.009 Laptop',\n",
              " 'Acer Predator Helios PH315-51',\n",
              " 'Acer Swift 3 SF315-52G',\n",
              " 'Acer TravelMate P614-51 Notebook',\n",
              " 'Acer Predator Triton 700',\n",
              " 'Acer Nitro 5 AN515-44-R55A NH.Q9MSI.004 Gaming Laptop',\n",
              " 'Acer Nitro AN515-52 Gaming Laptop',\n",
              " 'Acer Nitro 5 AN517-51',\n",
              " 'Acer Predator Triton 300',\n",
              " 'Acer Helios PH317-53',\n",
              " 'Acer Nitro 5 AN515-54',\n",
              " 'Acer Predator Helios 300 PH315-52',\n",
              " 'Acer Aspire E5-573G-52G3',\n",
              " 'Acer Nitro 5 AN515-55',\n",
              " 'Acer Nitro 5 AN515-55 NH.Q7RSI.004 Gaming Laptop',\n",
              " 'Acer Nitro 5 AN517-51 NH.Q5DSI.003 Gaming Laptop',\n",
              " 'Acer Nitro 5 AN517-51',\n",
              " 'Acer Nitro 5 AN515-52-57WR',\n",
              " 'Acer Nitro 7 AN715',\n",
              " 'Acer Nitro 7 AN715-51 NH.Q5FSI.004 Gaming Laptop',\n",
              " 'Acer Swift 7 SF713-51',\n",
              " 'Acer Aspire 7 A715-41G-R6S8 NH.Q8DSI.001 Gaming Laptop',\n",
              " 'Acer Nitro AN515-54 NH.Q59SI.012 Gaming Laptop',\n",
              " 'Acer Predator Helios PH315-51 Gaming Laptop',\n",
              " 'Acer Swift 3 SF314-53G',\n",
              " 'Acer Aspire A615-51',\n",
              " 'Acer Nitro 7 AN715-51',\n",
              " 'Acer Swift SF514-52T NX.GTMSI.025 Laptop',\n",
              " 'Acer Nitro 5 AN515-52',\n",
              " 'Acer Aspire 5 Slim A515-54G Laptop',\n",
              " 'Acer Swift 5 SF514-54T NX.HHUSI.002 Laptop',\n",
              " 'Acer Nitro 5 AN515-43',\n",
              " 'Acer Predator Triton 300',\n",
              " 'Acer Aspire VX 15',\n",
              " 'Acer Nitro 5 AN515-52',\n",
              " 'Acer Aspire 7 A715-75G NH.Q81SI.003 Gaming Laptop',\n",
              " 'Acer Nitro 5 AN515-51',\n",
              " 'Acer Aspire R7-571G Laptop',\n",
              " 'Acer Switch 5 NT.LDSSI.003 Laptop',\n",
              " 'Acer Predator Helios PH315-51',\n",
              " 'Acer Aspire E5-574G',\n",
              " 'Acer Swift 3 SF314-57G',\n",
              " 'Acer Nitro 5 AN515-52-76VR',\n",
              " 'Acer Nitro AN515-54 NH.Q59SI.014 Gaming Laptop',\n",
              " 'Acer Swift 5 SF514-52T NX.GU4SI.005 Laptop',\n",
              " 'Acer Nitro 5 AN515-31 Laptop',\n",
              " 'Acer Spin 5 SP513-54N Laptop',\n",
              " 'Acer Nitro 5 AN515-31-58SH',\n",
              " 'Acer Aspire 5 A515-52G-514L',\n",
              " 'Acer Swift 3 SF314-57 NX.HJESI.003 laptop',\n",
              " 'Acer Nitro 5 AN515-31',\n",
              " 'Acer Swift 5 SF514-52T-590U',\n",
              " 'Acer Nitro 5 AN515-51',\n",
              " 'Acer Nitro 5 AN515-51',\n",
              " 'Acer Nitro AN515-52-7969 NH.Q3MSI.004 Gaming Laptop',\n",
              " 'Acer Nitro 5 Spin NP515-51',\n",
              " 'Acer Nitro 5 AN517-51 NH.Q5CSI.004 Gaming Laptop',\n",
              " 'Acer Swift 3 SF314-57',\n",
              " 'Acer Swift 7 SF713-51-M775',\n",
              " 'Acer Swift 3 SF314-42',\n",
              " 'Acer Nitro 5 AN515-31 Laptop',\n",
              " 'Acer Predator Helios PH315-51',\n",
              " 'Acer Nitro 5 AN515-52-54GU',\n",
              " 'Acer Nitro 5 AN515-43',\n",
              " 'Acer Predator Helios 300 G3-572',\n",
              " 'Acer Nitro AN515-31',\n",
              " 'Acer Nitro 5 AN517-51',\n",
              " 'Acer Aspire E5-573G-72XK Laptop',\n",
              " 'Acer Travelmate P2410-G2-MG',\n",
              " 'Acer Travelmate TMP214-52 Laptop',\n",
              " 'Acer Swift 3 SF314-52',\n",
              " 'Acer Aspire 5 A515-52G NX.H5QSI.003 Laptop',\n",
              " 'Acer Aspire 5 A515-52G-51RM',\n",
              " 'Acer Nitro 5 AN515-54 NH.Q5ASI.006 Gaming Laptop',\n",
              " 'Acer SF314-51',\n",
              " 'Acer Swift 3 SF314-57 NX.HJFSI.001 Laptop',\n",
              " 'Acer Swift 7 SF713-51',\n",
              " 'Acer Nitro 5 NP515-51 Notebook',\n",
              " 'Acer Nitro 5 AN515-51',\n",
              " 'Acer SF314-54-57J7 Laptop',\n",
              " 'Acer Nitro 5 AN515-51',\n",
              " 'Acer Aspire 7 A715-75G-544V',\n",
              " 'Acer Swift 5 SF514-52T',\n",
              " 'Acer Nitro 5 AN515-43',\n",
              " 'Acer Aspire 7 A715-41G',\n",
              " 'Acer Nitro 5 AN515-51 Notebook',\n",
              " 'Acer Aspire 7 A715-75G NH.Q85SI.003 Gaming Laptop',\n",
              " 'Acer Nitro 5 AN517-51-53JG Gaming Laptop',\n",
              " 'Acer Nitro 5 AN515-51',\n",
              " 'Acer Swift 3 SF314-54-554K',\n",
              " 'Acer Aspire 7 A715-75G',\n",
              " 'Acer AN515-52-59P8 Laptop',\n",
              " 'Acer Aspire E5-571G',\n",
              " 'Acer Aspire E5-573G-736M Laptop',\n",
              " 'Acer Swift 3 SF315-52G',\n",
              " 'Acer Travelmate TMP214-52 Laptop',\n",
              " 'Acer Aspire 5 A515-54 NX.HN5SI.007 Laptop',\n",
              " 'Acer Nitro 5 AN515-52 UN.Q3LSI.004 Gaming Laptop',\n",
              " 'Acer Nitro 5 AN515-51 Notebook',\n",
              " 'Acer Swift 3 SF313-51 NX.H3YSI.005 Laptop',\n",
              " 'Acer Aspire E5-573G-787X',\n",
              " 'Acer Nitro 5 AN515-51',\n",
              " 'Acer Aspire 6 A615-51G Laptop',\n",
              " 'Acer Nitro 5 AN515-51',\n",
              " 'Acer Nitro 5 AN515-52',\n",
              " 'Acer Swift 3 SF315-52G',\n",
              " 'Acer Swift 3 SF315-51G',\n",
              " 'Acer Aspire 5 A515-52-555F',\n",
              " 'Acer Swift 3 SF314-52',\n",
              " 'Acer Nitro 5 AN515-54 UN.Q5ASI.005 Gaming Laptop',\n",
              " 'Acer Aspire V5-571P Laptop',\n",
              " 'Acer Aspire 7 A715-41G-R7X4',\n",
              " 'Acer Swift 3 SF315-52G-52XD',\n",
              " 'Acer Aspire V3-574G-75M4 Laptop',\n",
              " 'Acer Aspire Switch Alpha SA5-271',\n",
              " 'Acer Aspire 5 A515-52G-50WK',\n",
              " 'Acer Swift 3 SF313-51 NX.H3YSI.006 Laptop',\n",
              " 'Acer Swift SF314-55G NX.HBJSI.001 Laptop',\n",
              " 'Acer Nitro 5 AN515-43',\n",
              " 'Acer Nitro 5  AN515-43',\n",
              " 'Acer Aspire 3 A315-55G NX.HNSSI.003 Laptop',\n",
              " 'Acer Aspire 5s A515-52',\n",
              " 'Acer Aspire E5-573G',\n",
              " 'Acer Aspire E1-572G Laptop',\n",
              " 'Acer Aspire F5-573G-54MK',\n",
              " 'Acer Aspire 5 A515-52G-57TG',\n",
              " 'Acer Swift 3 SF315-51G',\n",
              " 'Acer Swift 3 SF315-51',\n",
              " 'Acer Aspire 5 A515-52G-5628',\n",
              " 'Acer Aspire 5 A515-55 NX.HSMSI.001 Laptop',\n",
              " 'Acer A615-51G-59JB Laptop',\n",
              " 'Acer Travelmate TMP214-52 Laptop',\n",
              " 'Acer Swift 3 SF314-54-59AL Laptop(8th Gen Core i5/ 8GB/ 512GB SSD/ Win10 Home)',\n",
              " 'Acer Nitro 5 AN515-41',\n",
              " 'Acer Aspire 5 A515-51G',\n",
              " 'Acer Aspire A515-54G NX.HFQSI.001 Laptop',\n",
              " 'Acer Aspire 3 A315-32-C3KK NX.GW5AA.001 Laptop',\n",
              " 'Acer Aspire 5 A515-51',\n",
              " 'Acer Aspire 5 A515-51G',\n",
              " 'Acer Spin SP513-52N NX.GR7SI.001 Laptop',\n",
              " 'Acer Aspire E1 571G Laptop',\n",
              " 'Acer Nitro 5 AN515-52',\n",
              " 'Acer SF314-51',\n",
              " 'Acer Aspire 5 NX.HUSSI.003 Laptop',\n",
              " 'Acer Aspire 5 A515-51G NX.GVLSI.002 Laptop',\n",
              " 'Acer Swift 3 SF314-52 Notebook Laptop',\n",
              " 'Acer M3-581TG',\n",
              " 'Acer Swift 3 SF315-51',\n",
              " 'Acer P2 Series TMP214-52 UN.VLGSI.032 Laptop',\n",
              " 'Acer Nitro 5 AN515-51',\n",
              " 'Acer Spin 3 SP314-54N Laptop',\n",
              " 'Acer Aspire V5-573G Laptop',\n",
              " 'Acer Swift 3 SF314-52-55TB',\n",
              " 'Acer Aspire 5S A515-54',\n",
              " 'Acer Aspire 5 A515-51G Laptop',\n",
              " 'Acer Nitro 5 AN515-43',\n",
              " 'Acer Aspire 5 A515-52G',\n",
              " 'Acer Aspire S3-391 Ultrabook',\n",
              " 'Acer Aspire V3-571G Laptop',\n",
              " 'Acer Aspire X349-M Notebook',\n",
              " 'Acer Aspire P238-M Notebook',\n",
              " 'Acer Swift 3 SF314-52',\n",
              " 'Acer Aspire 5 A515-51G',\n",
              " 'Acer Aspire 5 A515-51G',\n",
              " 'Acer Swift 3 SF315-51G',\n",
              " 'Acer SF114-32-C73H Laptop',\n",
              " 'Acer Aspire M3-581TG-53314G52Makk Ultrabook',\n",
              " 'Acer Aspire 5 A515-51G',\n",
              " 'Acer Switch SW512-52 Laptop',\n",
              " 'Acer Aspire E5-573G-76AA Laptop',\n",
              " 'Acer Swift 3 SF315-51',\n",
              " 'Acer Aspire 1 A114-31-C4HH',\n",
              " 'Acer Nitro 5 AN515-42',\n",
              " 'Acer Aspire E5-574G-77RN Laptop',\n",
              " 'Acer A315-53G-500R Laptop',\n",
              " 'Acer Nitro 5 AN515-52',\n",
              " 'Acer Aspire V5-471P Laptop',\n",
              " 'Acer Aspire E5-573G-563K',\n",
              " 'Acer Spin 3 SP314-51',\n",
              " 'Acer Apsire M3-581TG Ultrabook',\n",
              " 'Acer Aspire 5 A515-51G',\n",
              " 'Acer Aspire V3-574G-54VY Laptop',\n",
              " 'Acer Aspire V5-471P Laptop',\n",
              " 'Acer Aspire V3-572G-58M4',\n",
              " 'Acer Aspire V5-573G',\n",
              " 'Acer Swift 3 SF313-51 NX.H3YSI.002 Laptop',\n",
              " 'Acer Spin 5 SP513-51',\n",
              " 'Acer Aspire 3 A315-56 NX.HS5SI.003 Laptop',\n",
              " 'Acer Aspire F5-573G',\n",
              " 'Acer Aspire F5-572G',\n",
              " 'Acer Aspire 5 A515-51G-51G2',\n",
              " 'Acer Aspire V5-571G Laptop',\n",
              " 'Acer Aspire A515-51G ',\n",
              " 'Acer Aspire 5 A515-51G',\n",
              " 'Acer Aspire 5 A515-51G',\n",
              " 'Acer Aspire TimelineUltra M3-581TG Laptop',\n",
              " 'Acer Aspire F5-573G',\n",
              " 'Acer Aspire 5 Slim A514-52 2019 Laptop',\n",
              " 'Acer Aspire V3-571G Laptop',\n",
              " 'Acer Aspire M5-481T Timeline Ultra Laptop',\n",
              " 'Acer Aspire V5-573G',\n",
              " 'Acer Aspire 3 A315-41',\n",
              " 'Acer Swift 3 SF315-41',\n",
              " 'Acer Aspire A315-53G-5968 NX.H1ASI.003 Laptop',\n",
              " 'Acer SF114-32-C3G9 Laptop',\n",
              " 'Acer Aspire M3 Laptop',\n",
              " 'Acer Aspire E5-574G-57T1 Laptop',\n",
              " 'Acer Aspire V5-571G',\n",
              " 'Acer Aspire V3-572G-35CW',\n",
              " 'Acer Aspire E5-575G',\n",
              " 'Acer Chromebook 714 CB714 Laptop',\n",
              " 'Acer Aspire V3-571G Laptop',\n",
              " 'Acer Aspire V3-571G Laptop',\n",
              " 'Acer Aspire 5 A515-51G',\n",
              " 'Acer TravelMate P2 TMP259-G2-MG',\n",
              " 'Acer Swift 3 SF314-52 Notebook Laptop',\n",
              " 'Acer Aspire E5-575G',\n",
              " 'Acer Aspire E5-571',\n",
              " 'Acer Aspire P449-M Notebook',\n",
              " 'Acer Switch SA5-271',\n",
              " 'Acer Aspire A515-51G',\n",
              " 'Acer Aspire 5 A515-52',\n",
              " 'Acer E5-575 Notebook',\n",
              " 'Acer Aspire V5-471 Laptop',\n",
              " 'Acer Aspire 5 A515-51G',\n",
              " 'Acer 5755G Laptop',\n",
              " 'Acer A515-51G-55KY',\n",
              " 'Acer Swift 3 SF314-52-300L',\n",
              " 'Acer Aspire E1-571G-BT Laptop',\n",
              " 'Acer Aspire 5',\n",
              " 'Acer Aspire V3-574G-341P Laptop',\n",
              " 'Acer Aspire V5-472P Laptop',\n",
              " 'Acer Aspire V5-471P Laptop',\n",
              " 'Acer Aspire 3 A315-54 Laptop',\n",
              " 'Acer Swift 3 SF314-41',\n",
              " 'Acer Chromebook 715 CB715 Laptop',\n",
              " 'Acer Aspire 5 A514-53-316M NX.HZ6SI.001 Laptop',\n",
              " 'Acer Aspire A515-51G',\n",
              " 'Acer Aspire V3-575G Laptop',\n",
              " 'Acer Aspire V5-472 Notebook',\n",
              " 'Acer Aspire V3-571G Laptop',\n",
              " 'Acer Aspire E E1-572G Notebook',\n",
              " 'Acer Aspire E5-575',\n",
              " 'Acer Aspire E1-571-BT Laptop',\n",
              " 'Acer Aspire 5 A515-51G Laptop',\n",
              " 'Acer Aspire E1-572 Laptop',\n",
              " 'Acer Aspire M5-481T-53314G52Mass Ultrabook',\n",
              " 'Acer Aspire E5-571 Laptop',\n",
              " 'Acer Aspire E1-571G-BT Laptop',\n",
              " 'Acer Aspire F5-572G',\n",
              " 'Acer A515-51-517Y',\n",
              " 'Acer Aspire E5-575 Notebook',\n",
              " 'Acer Aspire 5 A515-51G',\n",
              " 'Acer Swift 3 SF315-41',\n",
              " 'Acer Travelmate P2 Series TMP243-M',\n",
              " 'Acer P3-171 Netbook',\n",
              " 'Acer Aspire E5-575',\n",
              " 'Acer Aspire E1-571G Laptop',\n",
              " 'Acer Chromebook 714 CB714 Laptop',\n",
              " 'Acer Aspire E5-573G-56JN',\n",
              " 'Acer Aspire S5-371-56J9',\n",
              " 'Acer Aspire 5 A515-51G',\n",
              " 'Acer Swift 3 SF314-41 UN.HFDSI.001 Laptop',\n",
              " 'Acer Aspire V5-472 Notebook',\n",
              " 'Acer Aspire E1-572 LX Laptop',\n",
              " 'Acer Aspire V V5-572P Notebook',\n",
              " 'Acer Aspire E1-571-BT Laptop',\n",
              " 'Acer Aspire E5-573G',\n",
              " 'Acer SF113-31-C07T Laptop',\n",
              " 'Acer Aspire E5-573G-38E1 Laptop',\n",
              " 'Acer Swift 3 SF314-51',\n",
              " 'Acer Aspire 5 A515-51G',\n",
              " 'Acer Spin 3 SP315-51 Laptop',\n",
              " 'Acer Aspire V5-572 Notebook',\n",
              " 'Acer Aspire A515-51',\n",
              " 'Acer Aspire 5 A515-51',\n",
              " 'Acer Spin 3 SP315-51',\n",
              " 'Acer Aspire E1-572G Notebook',\n",
              " 'Acer Aspire 5 A515-51G',\n",
              " 'Acer A515-51G',\n",
              " 'Acer Aspire E5-575G-30UG',\n",
              " 'Acer Aspire E1-571 Laptop',\n",
              " 'Acer Aspire E E1-572 Notebook',\n",
              " 'Acer Aspire E5-573 Laptop',\n",
              " 'Acer Aspire V5-571 Laptop',\n",
              " 'Acer Aspire E5-571 Notebook',\n",
              " 'Acer Aspire E5-573G',\n",
              " 'Acer Aspire E5-574G Laptop',\n",
              " 'Acer Aspire V5 571G Laptop',\n",
              " 'Acer Aspire 5 A515-51G',\n",
              " 'Acer Aspire E5-575G Laptop',\n",
              " 'Acer Aspire 5 A515-51G Laptop',\n",
              " 'Acer Aspire 5 A515-54 UN.HFNSI.004 Laptop',\n",
              " 'Acer Aspire E5-576G NX.GRYSI.003 Laptop',\n",
              " 'Acer Aspire 3 A315-51',\n",
              " 'Acer Aspire 5 A515-51-55K1',\n",
              " 'Acer Swift 3 SF314-52-32ZB',\n",
              " 'Acer Aspire E1-470P Notebook',\n",
              " 'Acer Aspire E5-575G',\n",
              " 'Acer Aspire E5-551G',\n",
              " 'Acer Aspire A315-31-C58L',\n",
              " 'Acer Aspire 5 A515-51-548W',\n",
              " 'Acer Aspire V5-472 Notebook',\n",
              " 'Acer A515-51-30C1 Laptop',\n",
              " 'Acer Aspire E5-571 Notebook',\n",
              " 'Acer Aspire V5-572 Laptop',\n",
              " 'Acer Aspire E5-575G',\n",
              " 'Acer Spin 3 SP315-51',\n",
              " 'Acer Aspire A315-53 NX.H38SI.014 Laptop',\n",
              " 'Acer Aspire 5 A515-51',\n",
              " 'Acer Aspire 5 A515-51',\n",
              " 'Acer Aspire E1-571G-BT Laptop',\n",
              " 'Acer Aspire E1-571G-BT Laptop',\n",
              " 'Acer Aspire E E1-570G Notebook',\n",
              " 'Acer Aspire 3 A315',\n",
              " 'Acer Aspire E1-470P Notebook',\n",
              " 'Acer Aspire 5 A515-51-339F',\n",
              " 'Acer A515-51-517Y',\n",
              " 'Acer Aspire 5 A515-51G',\n",
              " 'Acer Aspire 3 A315-23 NX.HVUSI.005 Laptop',\n",
              " 'Acer Aspire E5-571 Notebook',\n",
              " 'Acer Aspire V5 571 Laptop',\n",
              " 'Acer Aspire E5-573G-380S',\n",
              " 'Acer Aspire E1-571 Laptop',\n",
              " 'Acer Aspire E E1-570G Notebook',\n",
              " 'Acer Aspire 3 A315-56 NX.HS5SI.006 Laptop',\n",
              " 'Acer Aspire 5 Slim A515-52 Laptop',\n",
              " 'Acer Chromebook 715 CB715 Laptop',\n",
              " 'Acer Aspire E1-572 Laptop',\n",
              " 'Acer Switch 10 Aspire Laptop(Atom Z3735f/2GB/ 500 GB /123MB/Win 8.1)',\n",
              " 'Acer Aspire V5-572G Laptop',\n",
              " 'Acer Aspire E1-570 Notebook',\n",
              " 'Acer Travelmate TM',\n",
              " 'Acer Aspire E E1-570G Notebook',\n",
              " 'Acer Aspire E E1-570G Notebook',\n",
              " 'Acer Aspire E5-575G-3937',\n",
              " 'Acer Aspire ES1-572',\n",
              " 'Acer Aspire 3 A315-53 NX.H37SI.001 Laptop',\n",
              " 'Acer Aspire 3 A315-56 NX.HS5SI.001 Laptop',\n",
              " 'Acer Aspire E5-476',\n",
              " 'Acer Aspire E5-575',\n",
              " 'Acer Aspire E1-571 Laptop',\n",
              " 'Acer Aspire V5-572 Laptop',\n",
              " 'Acer Aspire E5-576',\n",
              " 'Acer Aspire E5-573G',\n",
              " 'Acer Aspire 5 A515-51G-34TP',\n",
              " 'Acer Aspire E5-575',\n",
              " 'Acer Aspire E1-570 Laptop',\n",
              " 'Acer Aspire E5-571 Notebook',\n",
              " 'Acer Aspire E5-572G',\n",
              " 'Acer Aspire V5-572 Notebook',\n",
              " 'Acer Aspire E1-571 Laptop',\n",
              " 'Acer E5-571 Laptop',\n",
              " 'Acer Aspire E1-571-BT Laptop',\n",
              " 'Acer Aspire ES1-572',\n",
              " 'Acer Aspire E15 E15-576',\n",
              " 'Acer Aspire V5 571G Laptop',\n",
              " 'Acer Aspire P249-MG Notebook',\n",
              " 'Acer Aspire 5 A515-51-30C1',\n",
              " 'Acer Aspire 3 A315-54 Laptop',\n",
              " 'Acer V5-431P Laptop',\n",
              " 'Acer Aspire 3 A315-31',\n",
              " 'Acer Aspire E5-476 NX.GWTSI.006 Laptop',\n",
              " 'Acer Aspire E5-523',\n",
              " 'Acer Aspire V5-471 Laptop',\n",
              " 'Acer Aspire V5-471 Laptop',\n",
              " 'Acer Aspire 5s A515-52',\n",
              " 'Acer One 14 Z1402-394D',\n",
              " 'Acer Aspire V5-571 Laptop',\n",
              " 'Acer Aspire E5-573-38Q6 Laptop',\n",
              " 'Acer Aspire E5-571 Notebook',\n",
              " 'Acer Aspire V5-571 Laptop',\n",
              " 'Acer Aspire E5-571 Notebook',\n",
              " 'Acer Aspire 3 A315-32',\n",
              " 'Acer Aspire E5-571 Notebook',\n",
              " 'Acer Aspire E5-471',\n",
              " 'Acer Aspire 3 A315-42 NX.HHNSI.002 Laptop',\n",
              " 'Acer Aspire E5-571 Notebook',\n",
              " 'Acer Aspire 3 A315-41 UN.GY9SI.001 Laptop',\n",
              " 'Acer Spin 1 SP111-31',\n",
              " 'Acer Spin SP111-31( NX.GL5SI.005) Laptop',\n",
              " 'Acer Aspire E5-575',\n",
              " 'Acer Aspire E5-575',\n",
              " 'Acer Aspire E5-576',\n",
              " 'Acer Aspire E5-575',\n",
              " 'Acer Aspire E5-573 Notebook',\n",
              " 'Acer Aspire E5-573 Laptop',\n",
              " 'Acer Aspire E5-571 laptop(Ci3/4GB/500GB /256MB/Windows 8.1)',\n",
              " 'Acer Aspire 5750 Laptop',\n",
              " 'Acer Aspire 3 A315-22',\n",
              " 'Acer V5-431P Laptop',\n",
              " 'Acer Aspire V5-571 Laptop',\n",
              " 'Acer Aspire 5755 Laptop',\n",
              " 'Acer Aspire One Z1402',\n",
              " 'Acer Aspire E5-571 Notebook',\n",
              " 'Acer Aspire 5 A515-53K NX.H9RSI.003 Laptop',\n",
              " 'Acer Aspire 5 A515-51',\n",
              " 'Acer Aspire 5 A515-52K UN.HA2SI.003 Laptop',\n",
              " 'Acer Aspire E15 E5-575',\n",
              " 'Acer Gateway NE56R Laptop',\n",
              " 'Acer Aspire E5-573',\n",
              " 'Acer Aspire V3-571 Laptop',\n",
              " 'Acer Aspire ES1-523',\n",
              " 'Acer Aspire E5-573G Laptop',\n",
              " 'Acer Aspire E15 E15-576 Laptop',\n",
              " 'Acer Aspire E1-570 Notebook',\n",
              " 'Acer Aspire E E1-570 Notebook',\n",
              " 'Acer Aspire E5-573-39KK Laptop',\n",
              " 'Acer Aspire E5-573G',\n",
              " 'Acer Aspire E5-553G',\n",
              " 'Acer Aspire 3 A315-53',\n",
              " 'Acer Aspire E5-572G',\n",
              " 'Acer Aspire E5-571 Notebook',\n",
              " 'Acer Aspire E5-576',\n",
              " 'Acer Aspire 3 A315-51z',\n",
              " 'Acer Aspire 3 A315-51',\n",
              " 'Acer Aspire 5 A515-53K',\n",
              " 'Acer Aspire 3 A315-53',\n",
              " 'Acer Aspire 5 A515-51',\n",
              " 'Acer Swift 3 SF314-52-33G8',\n",
              " 'Acer Aspire 3 A315-51z',\n",
              " 'Acer Aspire E5-575',\n",
              " 'Acer Aspire E5-573',\n",
              " 'Acer Aspire E5-571 Notebook',\n",
              " 'Acer Aspire E1-571 Laptop',\n",
              " 'Acer Aspire E1-571 Laptop',\n",
              " 'Acer Aspire 3 A315-51',\n",
              " 'Acer Aspire 3 A315-51',\n",
              " 'Acer One Z2-485 UN.EFMSI.044 Laptop',\n",
              " 'Acer Aspire 3 A315-54K-31C4',\n",
              " 'Acer Aspire ES1-572-366K',\n",
              " 'Acer Gateway NE56R Laptop',\n",
              " 'Acer Aspire E5Laptop(Ci3/4GB/500 GB/256MB/Linux)',\n",
              " 'Acer Aspire E5-573 Notebook',\n",
              " 'Acer Aspire V5-571 Laptop',\n",
              " 'Acer C733 NX.H8VSI.004 Chromebook',\n",
              " 'Acer E1-530',\n",
              " 'Acer Aspire E5-573 Laptop',\n",
              " 'Acer Aspire V5-431 Laptop',\n",
              " 'Acer Aspire V5-431 Laptop',\n",
              " 'Acer Aspire V5-431 Laptop',\n",
              " 'Acer Aspire Switch 12 SW5-271-64V2 Laptop',\n",
              " 'Acer Aspire E5-575',\n",
              " 'Acer Aspire 3 A315-51',\n",
              " 'Acer Aspire E5-573 Laptop',\n",
              " 'Acer Aspire E1-571-BT Laptop',\n",
              " 'Acer Aspire R3-131T',\n",
              " 'Acer One 14 Z476',\n",
              " 'Acer Aspire E1-570 Notebook',\n",
              " 'Acer Aspire E5-571 Notebook',\n",
              " 'Acer Aspire E5-573 Laptop',\n",
              " 'Acer One S1002',\n",
              " 'Acer Aspire A315-51',\n",
              " 'Acer Aspire E1-531 Laptop',\n",
              " 'Acer Aspire E5-573-32JT',\n",
              " 'Acer Aspire ES1-572',\n",
              " 'Acer Aspire V5-531 Laptop',\n",
              " 'Acer Aspire 3 A315-42G',\n",
              " 'Acer Aspire E5-553-T8V1',\n",
              " 'Acer Aspire E5-571-33YS Laptop',\n",
              " 'Acer Aspire E5-575',\n",
              " 'Acer Aspire ES1-572',\n",
              " 'Acer Aspire 5 A515-51',\n",
              " 'Acer Aspire 3 A315-54K',\n",
              " 'Acer Aspire 3 A315-53-31VU',\n",
              " 'Acer Aspire E5-576',\n",
              " 'Acer Aspire E1-471 Notebook',\n",
              " 'Acer Aspire E5-511 Notebook',\n",
              " 'Acer Aspire ES1-572',\n",
              " 'Acer Aspire ES1-572',\n",
              " 'Acer Aspire 3 A315-51',\n",
              " 'Acer Aspire E5-551-T49Z',\n",
              " 'Acer Aspire E5-571 Notebook',\n",
              " 'Acer Aspire V5-431 Laptop',\n",
              " 'Acer Aspire E5-571 Notebook',\n",
              " 'Acer Aspire E5-571G Laptop',\n",
              " 'Acer Aspire E1-431 Laptop',\n",
              " 'Acer Aspire E1-421 Laptop',\n",
              " 'Acer One 14',\n",
              " 'Acer Aspire A315-21',\n",
              " 'Acer Travelmate TM P243-M Notebook(3rd Gen Ci3/ 4GB/ 500GB/ Linux)',\n",
              " 'Acer One 14 Z476',\n",
              " 'Acer One 14 Z2-485 UN.EFMSI.063 Laptop',\n",
              " 'Acer Aspire E5-532',\n",
              " 'Acer Aspire E5-573-30KU Laptop',\n",
              " 'Acer Aspire E5-553(UN.GESSI.001) Laptop',\n",
              " 'Acer Aspire E1-510 Notebook',\n",
              " 'Acer Aspire E5-573 Laptop',\n",
              " 'Acer One 14 Z476',\n",
              " 'Acer Aspire AS5750z Laptop',\n",
              " 'Acer Aspire E1-531 Laptop',\n",
              " 'Acer Gateway NE-572',\n",
              " 'Acer Aspire E5-511 Notebook',\n",
              " 'Acer Aspire E5 ES1-571-558Z',\n",
              " 'Acer Aspire E5-573-30L7',\n",
              " 'Acer Aspire ES1-572',\n",
              " 'Acer Aspire AS5750z Laptop',\n",
              " 'Acer Aspire ES1-533 Laptop',\n",
              " 'Acer Aspire E5-532-P0S6',\n",
              " 'Acer Spin SP111-33 NX.H0VSI.002 Laptop Pentium Quad Core/ 4GB/ 500GB/ Win10 Home)',\n",
              " 'Acer Aspire E5-573',\n",
              " 'Acer Aspire 3 A315-32 NX.GVWSI.004 Laptop',\n",
              " 'Acer Aspire Switch SW3-013-10YW Laptop',\n",
              " 'Acer Aspire E5-573 Laptop',\n",
              " 'Acer Aspire V5-131 Netbook',\n",
              " 'Acer Aspire E1-431 Laptop',\n",
              " 'Acer Aspire ES1-572',\n",
              " 'Acer Aspire E1-530 Notebook',\n",
              " 'Acer Aspire E5-532',\n",
              " 'Acer Gateway NE411-P9DB Laptop',\n",
              " 'Acer Aspire E5',\n",
              " 'Acer Aspire 3 A315-31',\n",
              " 'Acer Aspire E5-511 Notebook',\n",
              " 'Acer Aspire A315-21',\n",
              " 'Acer Aspire E1-431 Notebook',\n",
              " 'Acer E5-573-C7CD',\n",
              " 'Acer Aspire V5-572 Laptop',\n",
              " 'Acer Aspire E1-530 Notebook',\n",
              " 'Acer Aspire One 725 Netbook',\n",
              " 'Acer Aspire E5(Pentium Quad Core /2GB/500 GB/Intel HD Graphics 4400/Linux)',\n",
              " 'Acer Aspire ES1-521-899K',\n",
              " 'Acer Aspire E1-570 Notebook',\n",
              " 'Acer Gateway 4250S Notebook',\n",
              " 'Acer R3-131T',\n",
              " 'Acer One 14 Z1402-32BJ',\n",
              " 'Acer Aspire E5-532G-P9YD',\n",
              " 'Acer Aspire E1-531 Laptop',\n",
              " 'Acer Aspire E E1-510 Notebook',\n",
              " 'Acer Aspire ES1-533',\n",
              " 'Acer Aspire 5742z Laptop',\n",
              " 'Acer Aspire E5',\n",
              " 'Acer Aspire ES1-512 Notebook',\n",
              " 'Acer Aspire E1-531 Laptop',\n",
              " 'Acer C720 Chromebook',\n",
              " 'Acer Aspire ES-15 ES1-571-P56E Laptop',\n",
              " 'Acer Aspire R3-131T',\n",
              " 'Acer Aspire ES1-512 Notebook',\n",
              " 'Acer Aspire ES1-512 Notebook',\n",
              " 'Acer E1-531 E NX.M12SI.024',\n",
              " 'Acer E5-522G Laptop',\n",
              " 'Acer Aspire 3 A315-51',\n",
              " 'Acer Aspire V5-123 Netbook',\n",
              " 'Acer Aspire ES1-521 Notebook',\n",
              " 'Acer Aspire E5-432 Notebook',\n",
              " 'Acer Aspire ES1-531',\n",
              " 'Acer Aspire ES1-571-P4ZR',\n",
              " 'Acer Aspire ES1-533',\n",
              " 'Acer Aspire 3 A315-32',\n",
              " 'Acer Aspire 3 A315-34',\n",
              " 'Acer Aspire 3 A315-34',\n",
              " 'Acer Aspire A315-53 NX.H38SI.012 Laptop',\n",
              " 'Acer Aspire V5-121 Netbook',\n",
              " 'Acer Aspire E5-532',\n",
              " 'Acer One 14 P29P',\n",
              " 'Acer Aspire E1 E1-510 Notebook',\n",
              " 'Acer V5-122P Netbook',\n",
              " 'Acer Aspire E5-511 Notebook',\n",
              " 'Acer Aspire ES1-512 Notebook',\n",
              " 'Acer Aspire E3-111 NX.MNTSI.003 Laptop',\n",
              " 'Acer Gateway NE56R Laptop',\n",
              " 'Acer Aspire ES-15',\n",
              " 'Acer Aspire ES1-521',\n",
              " 'Acer Aspire 3 A315-21',\n",
              " 'Acer A315-31',\n",
              " 'Acer Aspire V5-131 Netbook',\n",
              " 'Acer Aspire E1-531 Laptop',\n",
              " 'Acer Aspire E5-523',\n",
              " 'Acer One S1001',\n",
              " 'Acer Aspire ES1-523',\n",
              " 'Acer Aspire 3 A315-33',\n",
              " 'Acer Aspire 3 A315-32',\n",
              " 'Acer Aspire 3 A315-32 NX.GVWSI.009 Laptop',\n",
              " 'Acer Aspire E3',\n",
              " 'Acer Aspire V5-121 Netbook',\n",
              " 'Acer Aspire ES1-533',\n",
              " 'Acer Aspire ES1-512 Notebook',\n",
              " 'Acer One 14',\n",
              " 'Acer Aspire E5-511 Notebook',\n",
              " 'Acer Aspire V5-131 Laptop',\n",
              " 'Acer Aspire ES1-533-C9H6',\n",
              " 'Acer Aspire V5-131 Laptop',\n",
              " 'Acer Gateway NE56R Laptop',\n",
              " 'Acer Aspire ES1-533',\n",
              " 'Acer Aspire 3 A315-31',\n",
              " 'Acer Aspire E1-522A Laptop',\n",
              " 'Acer Aspire E3-112M',\n",
              " 'Acer Aspire ES1-533',\n",
              " 'Acer Aspire E1-522A Laptop',\n",
              " 'Acer ES1-523',\n",
              " 'Acer Aspire 3 A315-31',\n",
              " 'Acer Aspire A315-53 NX.H38SI.010 Laptop',\n",
              " 'Acer Aspire E1-510 Notebook',\n",
              " 'Acer Aspire V5-123 Netbook',\n",
              " 'Acer Aspire E5-571G Notebook',\n",
              " 'Acer Aspire E3-111',\n",
              " 'Acer Aspire 3 A315-31',\n",
              " 'Acer Aspire ES1-132-C897',\n",
              " 'Acer One 14 P9L1',\n",
              " 'Acer Aspire 3 A315-21',\n",
              " 'Acer Aspire 3 A315-31',\n",
              " 'Acer Aspire ES1-533-C1SX',\n",
              " 'Acer Aspire 3 A315-33',\n",
              " 'Acer Aspire 3 A315-21',\n",
              " 'Acer Aspire E1-522 Laptop',\n",
              " 'Acer Aspire 3 A315-33',\n",
              " 'Acer Aspire 3 A315-31',\n",
              " 'Acer Aspire A315-31 Laptop',\n",
              " 'Acer Aspire E1-531 Laptop',\n",
              " 'Acer Aspire 3 A315-21',\n",
              " 'Acer Aspire V5-123 Netbook',\n",
              " 'Acer Aspire E5-511 Notebook',\n",
              " 'Acer TravelMate P249-M Laptop',\n",
              " 'Acer Aspire ES1-132 Notebook',\n",
              " 'Acer Aspire 3 A315-33',\n",
              " 'Acer Aspire ES1-523',\n",
              " 'Acer Aspire E3-112M',\n",
              " 'Acer Aspire ES1-523',\n",
              " 'Acer Aspire ES1-111M',\n",
              " 'Acer ES1-531-P5GU Notebook',\n",
              " 'Acer Aspire 3 A315-53 Laptop',\n",
              " 'Acer Aspire Z3-451 Laptop',\n",
              " 'Acer Aspire ES1-523',\n",
              " 'Acer Aspire 3 A315-31',\n",
              " 'Acer One 14 Z422 Laptop',\n",
              " 'Acer ES1-131-C22T',\n",
              " 'Acer Aspire A315-31',\n",
              " 'Acer A315-21-2109',\n",
              " 'Acer Aspire E3-112M',\n",
              " 'Acer Aspire ES1-512 Notebook',\n",
              " 'Acer One S1002',\n",
              " 'Acer Aspire One 722 Laptop',\n",
              " 'Acer Aspire E1-531 Laptop',\n",
              " 'Acer One 14',\n",
              " 'Acer One 14 Z1402',\n",
              " 'Acer Aspire 3 A315-33',\n",
              " 'Acer Aspire ES1-520 Notebook',\n",
              " 'Acer Aspire 3 A315-31',\n",
              " 'Acer C720 Chromebook',\n",
              " 'Acer Aspire ES1-512 Notebook',\n",
              " 'Acer ES1-131-C8RL',\n",
              " 'Acer Aspire ES1-521',\n",
              " 'Acer Aspire ES1-531',\n",
              " 'Acer One 14',\n",
              " 'Acer Aspire E3-112M',\n",
              " 'Acer Aspire A315-21',\n",
              " 'Acer Aspire ES1-111',\n",
              " 'Acer One S1001',\n",
              " 'Acer Aspire Switch 10 E SW3-016',\n",
              " 'Acer E15 ES1-531-C2YE',\n",
              " 'Acer C730 Chromebook',\n",
              " 'Acer Aspire E11 ES1-111',\n",
              " 'Acer Aspire ES1-131',\n",
              " 'Acer Aspire ES1-132 Notebook',\n",
              " 'Acer Gateway',\n",
              " 'Acer Aspire 3 A315-31',\n",
              " 'Acer Switch One SW110-1CT',\n",
              " 'Acer SW1-011',\n",
              " 'Acer Switch One 10 SW110-1CT',\n",
              " 'Acer Gateway NE46 Notebook',\n",
              " 'Acer Aspire Switch 10 E SW3-016',\n",
              " 'Acer Aspire E3-111 Laptop',\n",
              " 'Acer Aspire One S1003',\n",
              " 'Acer Aspire E3-112M',\n",
              " 'Acer One S1001',\n",
              " 'APPLE MAC PRO MD878HN/A 6( CORE XEON E5 /16GB/256GB /3GB/Mac)',\n",
              " 'Apple MacBook Pro MR972HN Ultrabook',\n",
              " 'Apple MacBook Pro MR942HN/A Touch Bar Laptop',\n",
              " 'Apple MacBook Pro MV932HN Laptop',\n",
              " 'Apple MacBook Pro MVVM2HN/A Laptop',\n",
              " 'Apple MacBook Pro MVVK2HN/A Laptop',\n",
              " 'Apple MacBook Pro MPTT2HN/A Laptop',\n",
              " 'Apple MacBook Pro MR962HN/A Ultrabook',\n",
              " 'Apple MacBook Pro MV912HN Laptop',\n",
              " 'Apple MacBook Pro MR952HN/A Ultrabook',\n",
              " 'Apple MacBook Pro MR932HN/A Touch Bar Laptop',\n",
              " 'Apple MacBook Pro 16 Laptop',\n",
              " 'Apple MacBook Pro MLH42HN/A Notebook',\n",
              " 'Apple MacBook Pro 2018 13-inch Touch Bar Laptop',\n",
              " 'Apple MacBook Pro MPTU2HN/A Laptop',\n",
              " 'Apple MacBook Pro 15 inch MV922HN/A',\n",
              " 'Apple MacBook Pro MV922HN Laptop',\n",
              " 'Apple MacBook Pro MWP82HN Laptop',\n",
              " 'Apple MacBook Pro MLW82HN/A Notebook',\n",
              " 'Apple MacBook Pro MVVJ2HN/A Laptop',\n",
              " 'Apple MacBook Pro 15 inch ME665HN/A Laptop',\n",
              " 'Apple Macbook pro MPTR2HN/A Laptop',\n",
              " 'Apple MacBook Pro 15 inch ME294HN/A Laptop',\n",
              " 'Apple MacBook Pro 16 Laptop',\n",
              " 'Apple MacBook Pro MV972HN Laptop',\n",
              " 'Apple MacBook Pro MV9A2HN Laptop',\n",
              " 'Apple MacBook Pro 2018 13-inch Laptop',\n",
              " 'Apple MacBook Pro MR9V2HN/A Ultrabook',\n",
              " 'Apple MacBook Pro MWP72HN Laptop',\n",
              " 'Apple Macbook Pro',\n",
              " 'Apple MacBook Pro 15 inch MC976HN/A Laptop',\n",
              " 'Apple MacBook Pro 15 inch MGXC2HN/A Notebook',\n",
              " 'Apple MacBook Pro MLW72HN/A Notebook',\n",
              " 'Apple Macbook Pro MV962HN Laptop',\n",
              " 'Apple MacBook Pro MPXW2HN/A Laptop',\n",
              " 'Apple Macbook Pro MLH12HN/A Notebook',\n",
              " 'Apple MacBook Pro MV902HN Laptop',\n",
              " 'Apple MacBook Pro MR9R2HN Ultrabook',\n",
              " 'Apple MacBook Pro MPTV2HN/A Notebook',\n",
              " 'Apple Macbook Pro MPXX2HN/A Notebook',\n",
              " 'Apple MacBook Pro MLH32HN/A Notebook',\n",
              " 'Apple MacBook Pro MJLQ2HN/A Notebook',\n",
              " 'Apple MacBook Pro MXK52HN Laptop',\n",
              " 'Apple Macbook Pro MR9U2HN/A Laptop',\n",
              " 'Apple MacBook MNYJ2HN/A Laptop',\n",
              " 'Apple Macbook pro MPXV2HN/A Laptop',\n",
              " 'Apple MacBook Pro 15 inch ME664HN/A Laptop',\n",
              " 'Apple MacBook Pro MV992HN Laptop',\n",
              " 'Apple MacBook Pro 13 inch ME866HN/A Laptop',\n",
              " 'Apple MacBook Pro 13inch MNQG2HN/A Notebook',\n",
              " 'Apple MacBook Pro MR9Q2HN/A Laptop',\n",
              " 'Apple MacBook MNYG2HN/A',\n",
              " 'Apple MacBook Pro 13inch MNQF2HN/A Notebook',\n",
              " 'Apple MacBook Air MREF2HN Laptop',\n",
              " 'Apple MacBook Air MRE92HN Ultrabook',\n",
              " 'Apple MacBook Pro 15 inch MGXA2HN/A Notebook',\n",
              " 'Apple MacBook Pro 13inch MLVP2HN/A Laptop',\n",
              " 'Apple MacBook Pro 2020 Laptop',\n",
              " 'Apple MacBook Pro 13inch MF841HN/A Laptop',\n",
              " 'Apple MacBook Pro MXK62HN Laptop',\n",
              " 'Apple MacBook MNYL2HN/A Ultrabook',\n",
              " 'Apple MacBook Air MVH42HN Laptop',\n",
              " 'Apple MacBook Pro 15 inch ME293HN/A Laptop',\n",
              " 'Apple MacBook Pro 15 inch MD103HN/A Laptop',\n",
              " 'Apple MacBook Pro MUHR2HN/A Laptop',\n",
              " 'Apple MacBook Pro MUHP2HN Laptop',\n",
              " 'Apple MD103HN/A Macbook Pro MD103HN/A',\n",
              " 'Apple MacBook Pro MPXU2HN/A Laptop',\n",
              " 'Apple ME866HN/A Macbook Pro Laptop(Intel Core i5 /8GB/ 500 GB /Intel Iris Graph/ Mac)',\n",
              " 'Apple MacBook Air MVFL2HN/A Notebook',\n",
              " 'Apple MacBook Pro 13inch MLL42HN/A Laptop',\n",
              " 'Apple MacBook Air MVFN2HN Laptop',\n",
              " 'Apple MacBook Pro MPXT2HN Laptop',\n",
              " 'Apple Macbook 12inch MJY42HN/A Notebook',\n",
              " 'Apple MacBook Air 2020 Laptop',\n",
              " 'Apple MacBook Pro MUHQ2HN/A Laptop',\n",
              " 'Apple MacBook MRQP2HN Ultrabook',\n",
              " 'Apple MacBook Pro 13 inch ME662HN/A Laptop',\n",
              " 'Apple ME865HN/A Macbook Pro Laptop(Intel Core i5 /8 GB/500GB/ Intel HD Graphics 4000 Graph/Mac)',\n",
              " 'Apple MacBook Air MRE82HN Ultrabook',\n",
              " 'Apple MacBook Air MREA2HN Ultrabook',\n",
              " 'Apple MacBook Air 2018 With Retina Display Laptop',\n",
              " 'Apple MacBook Pro MUHN2HN Laptop',\n",
              " 'Apple MacBook MNYF2HN/A',\n",
              " 'Apple MacBook MNYH2HN Ultrabook',\n",
              " 'Apple MacBook Air MVFJ2HN',\n",
              " 'Apple MacBook Air MREC2HN Ultrabook',\n",
              " 'Apple Macbook 12inch MK4N2HN/A Notebook',\n",
              " 'Apple MacBook Pro 13 inch MGX82HN/A Notebook',\n",
              " 'Apple MacBook Pro 13 inch MGX92HN/A Notebook',\n",
              " 'Apple MacBook Pro 13 inch ME864HN/A Laptop',\n",
              " 'Apple MacBook Pro MPXR2HN/A Ultrabook',\n",
              " 'Apple MacBook Pro 13.3inch MPXQ2HN/A Laptop',\n",
              " 'Apple Macbook 12inch MK4M2HN/A Notebook',\n",
              " 'Apple MacBook Pro 13inch MF840HN/A Laptop',\n",
              " 'Apple MacBook Air MVFH2HN Laptop',\n",
              " 'Apple MacBook Pro 13 inch MD102HN/A Laptop',\n",
              " 'Apple Macbook 12inch MF865HN/A Notebook',\n",
              " 'Apple MacBook Pro 13inch ME865HN/A Laptop',\n",
              " 'Apple MacBook Air 2020 MVH52HN Laptop',\n",
              " 'Apple MacBook MRQN2HN Ultrabook',\n",
              " 'Apple MacBook Air MWTK2HN Laptop',\n",
              " 'Apple MacBook Air MVFM2HN Laptop',\n",
              " 'Apple MacBook Air MVFK2HN',\n",
              " 'Apple Macbook 12inch MJY32HN/A Notebook',\n",
              " 'Apple MacBook Pro 13 inch MD212HN/A Laptop',\n",
              " 'Apple MacBook Air 13inch MMGF2HN/A Laptop',\n",
              " 'Apple MacBook Air 13 inch MD761HN/A Laptop',\n",
              " 'Apple MacBook Pro MD101HN/A Laptop',\n",
              " 'Apple MacBook Air 13inch MMGG2HN/A Laptop',\n",
              " 'Apple MacBook Air 11inch MJVP2HN/A Notebook',\n",
              " 'Apple MacBook Pro MGX72HN Notebook',\n",
              " 'Apple MacBook Air 13 inch MD761HN/B Laptop',\n",
              " 'Apple MacBook Air 11 inch  MD712HN/A Laptop',\n",
              " 'Apple MacBook Air 2020 Laptop',\n",
              " 'Asus TUF Gaming A15 FA506II-AL117T Laptop',\n",
              " 'Apple MacBook Air 13inch MQD42HN/A Laptop',\n",
              " 'Apple Macbook 12inch MF855HN/A Notebook',\n",
              " 'Apple MacBook Air 13inch MJVG2HN/A Notebook',\n",
              " 'Apple MacBook Air 13 inch MD760HN/A Laptop',\n",
              " 'Apple MacBook Air 13 inch MD232HN/A Laptop',\n",
              " 'Apple MacBook Air 11 inch MD712HN/B Laptop',\n",
              " 'Apple MacBook Air 13 inch MD760HN/B Laptop',\n",
              " 'Apple MacBook Air MQD32HN/A Laptop',\n",
              " 'Apple MacBook Air MREE2HN Ultrabook',\n",
              " 'Apple MacBook Air 13inch MJVE2HN/A Laptop',\n",
              " 'Apple MacBook Air 11 inch MD711HN/A Laptop',\n",
              " 'Apple MacBook Air 11inch MJVM2HN/A Laptop',\n",
              " 'Apple MacBook Air 11 inch MD711HN/B Laptop',\n",
              " 'Apple MacBook Pro MF839HN Laptop',\n",
              " 'Apple MacBook Air 11 inch MD223HN/A Laptop',\n",
              " 'Apple MacBook Pro 13inch MD101HN/A Laptop',\n",
              " 'Apple MacBook 12inch MNYM2HN/A Laptop',\n",
              " 'Asus ROG G703GI-E5148T Laptop',\n",
              " 'Asus ROG Zephyrus S GX531GM-DH74 Laptop',\n",
              " 'Asus ROG G703GXR-EV078R Gaming Laptop',\n",
              " 'Asus ROG Mothership GZ700GX Gaming Laptop',\n",
              " 'Asus ROG Zephyrus Duo GX550LXS-HC145TS Gaming Laptop',\n",
              " 'Asus ROG Zephyrus S GX531GWR-AZ044T Gaming Laptop',\n",
              " 'Asus ROG Zephyrus Duo 15 GX550LXS Laptop',\n",
              " 'Asus ROG Zenphyrus GX501VI-GZ029R Laptop',\n",
              " 'Asus ROG Zephyrus S GX701GXR-EV025T Laptop',\n",
              " 'Asus UX581LV-H2035T Gaming Laptop',\n",
              " 'Asus ROG Zephyrus Duo 15 GX550LWS Laptop',\n",
              " 'Asus ROG Zephyrus Duo GX550LWS-HF079TS Gaming Laptop',\n",
              " 'Asus ROG Zephyrus S15 GX502LXS-HF081T Gaming Laptop',\n",
              " 'Asus ZenBook Pro Duo UX581 Laptop',\n",
              " 'Asus ROG Strix SCAR III G731 Laptop',\n",
              " 'ASUS Zenbook Pro Duo UX581GV Laptop',\n",
              " 'Asus ZenBook Pro Duo UX581GV-HM7201T Laptop',\n",
              " 'Asus ROG Zenphyrus GM501GS-EI004T Laptop',\n",
              " 'Asus ROG Zephyrus S17 GX701LV-EV003T Gaming Laptop',\n",
              " 'Asus ROG Zephyrus SGX531GWR-ES024T Gaming Laptop',\n",
              " 'Asus UX581LV-H2034T Gaming Laptop',\n",
              " 'Asus ZenBook Pro Duo UX581GV Laptop',\n",
              " 'Asus ROG Zenphyrus Edition GX501GI-EI004T Gaming Laptop',\n",
              " 'Asus ZenBook Pro 15 UX580GE-E2032T Laptop',\n",
              " 'Asus ROG Strix Scar Edition GL503VS-EI083T Gaming Laptop',\n",
              " 'Asus ROG Strix Scar III G531GW-AZ113T Gaming Laptop',\n",
              " 'Asus Zephyrus G14 Gaming Laptop',\n",
              " 'Asus ROG Strix Hero S5AM7700 Laptop',\n",
              " 'Asus ExpertBook B9 B9450FA-BM0699R Laptop',\n",
              " 'Asus ROG Strix SCAR II GL504GW-ES007T Laptop',\n",
              " 'Asus ROG Zephyrus S17 GX701LV-EV039T Gaming Laptop',\n",
              " 'Asus ExpertBook B9450FA Laptop',\n",
              " 'Asus ROG GL503VM-DB74 Laptop',\n",
              " 'Asus ROG Zenphyrus GM501GM-EI005T Laptop',\n",
              " 'Asus ROG G752VY-GC489T Laptop',\n",
              " 'Asus ROG G752VS-GB094T Laptop',\n",
              " 'Asus Zenbook 3 UX390UA-XH74 Ultrabook',\n",
              " 'Asus ROG Strix Hero II GL504GV-ES034T Gaming Laptop',\n",
              " 'Asus ROG Strix Scar II GL504GV-ES019T Gaming Laptop',\n",
              " 'ASUS ROG Strix GL702VS-AH73 Gaming Laptop',\n",
              " 'Asus ExpertBook B9 B9450FA Laptop',\n",
              " 'Asus ROG GL503VM-ED111T Gaming Laptop',\n",
              " 'Asus ZenBook Pro UX580GE-E2014T Laptop',\n",
              " 'Asus ZenBook S13 UX392FN Laptop',\n",
              " 'Asus ROG Strix Scar III G531GW-AZ014T Gaming Laptop',\n",
              " 'Asus G750JX-CV069P Laptop',\n",
              " 'Asus PRO B9440UA-XS74 Ultrabook',\n",
              " 'Asus ROG Strix SCAR II GL504GV-ES019T Laptop',\n",
              " 'Asus ROG GL503VM-GZ248T Gaming Laptop',\n",
              " 'Asus ROG Strix GL553VD-DS71 Laptop',\n",
              " 'Asus VivoBook Flip R518UA-DH51T Laptop',\n",
              " 'Asus Zenbook 14 UX433FA-DH74 Laptop',\n",
              " 'Asus ROG Zephyrus M15 GU502LV-AZ016T Gaming Laptop',\n",
              " 'Asus ROG Strix SCAR II GL504GS-ES113T Laptop',\n",
              " 'Asus GL703VD-DB74 Laptop',\n",
              " 'Asus ZenBook 15 UX533FD Laptop',\n",
              " 'Asus ROG GL702ZC-GC216T Laptop',\n",
              " 'Asus ROG GL503VM-FY166T Gaming Laptop',\n",
              " 'Asus ROG Strix Scar III G531GV-ES014T Gaming Laptop',\n",
              " 'Asus Zenbook 3 UX390UA-GS048T Laptop',\n",
              " 'Asus ZenBook Flip S UX370UA-C4195T Ultrabook',\n",
              " 'Asus ZenBook 15 UX534FT-A7621TS Laptop',\n",
              " 'Asus ROG GL504GM-ES155T Gaming Laptop',\n",
              " 'Asus K53SC-SX494R Laptop',\n",
              " 'Asus ZenBook S13 UX392FN Laptop',\n",
              " 'Asus FX503VD-EH73 Laptop',\n",
              " 'Asus ROG G501VW-BSI7N25 Laptop',\n",
              " 'Asus ZenBook 15 UX534FT-A7601T Laptop',\n",
              " 'Asus UX481FL-HJ143TS Laptop',\n",
              " 'Asus ROG Strix G15 G512LV-HN090T Gaming Laptop',\n",
              " 'Asus G751JM-T7066P ROG Series Laptop',\n",
              " 'Asus G751JL-T3024P ROG Series Laptop',\n",
              " 'Asus ZenBook Pro UX501VW-FI119T Laptop',\n",
              " 'Asus ROG Strix Scar III G531GU-ES016T Gaming Laptop',\n",
              " 'Asus ROG Strix SCAR III G531GU-ES104T Laptop',\n",
              " 'Asus ROG Strix Hero III G531GU-ES133T Gaming Laptop',\n",
              " 'Asus ROG Strix G15 G512LU-AL011T Gaming Laptop',\n",
              " 'Asus ExpertBook B9 B9450FA Laptop',\n",
              " 'Asus ROG GL502VM-FY230T Notebook',\n",
              " 'Asus ZenBook 15 UX534FT Laptop',\n",
              " 'Asus ZenBook UX430UA-DH74 Laptop',\n",
              " 'Asus ROG Zephyrus M GU502GU-ES003T Laptop',\n",
              " 'Asus ROG Strix GL702ZC-BA290T Gaming Laptop',\n",
              " 'Asus ZenBook Duo UX481FL-BM149T Laptop',\n",
              " 'Asus ROG G501VW-FI034T Laptop',\n",
              " 'Asus ROG Strix SCAR III G531GU-ES108T Laptop',\n",
              " 'Asus ROG GL502VT-FY026T Laptop',\n",
              " 'Asus ROG Strix G15 G512LU-AL012T Gaming Laptop',\n",
              " 'Asus G750JM-T4018P Laptop',\n",
              " 'Asus TUF FX705GM-EV024T Laptop',\n",
              " 'Asus Zenbook Pro UX501-FJ221H Laptop',\n",
              " 'Asus ROG GL502VM-FY230T Notebook',\n",
              " 'Asus ZenBook 13 UX334FL Laptop',\n",
              " 'Asus Vivobook M580VD-EB76 Laptop',\n",
              " 'Asus ZenBook UX481FL Laptop Duo',\n",
              " 'Asus Zenbook 14 UX434FL-A7622TS Ultrabook',\n",
              " 'Asus G751JM-T7065P ROG Series Laptop',\n",
              " 'Asus ROG Strix G G531GU-ES511T Gaming Laptop',\n",
              " 'Asus Zenbook 14 UX433FAC-A6405TS Laptop',\n",
              " 'Asus G731GT-H7114T Gaming Laptop',\n",
              " 'Asus UX390UA-GS053T Ultrabook',\n",
              " 'Asus G75VX-CV195P G Laptop(Intel Core i7 /16GB/ 1.5 TB /NVIDIA GTX 670M 3GB Graph/ Windows 8Pro )',\n",
              " 'Asus ZenBook 14 UX434FL Laptop',\n",
              " 'Asus TUF FX505DV-AL136T Laptop',\n",
              " 'Asus ROG G551VW-FI242T Laptop',\n",
              " 'Asus ROG Strix G731GT-H7159T Gaming Laptop',\n",
              " 'Asus ZenBook UX325JA-EG137TS Laptop',\n",
              " 'Asus ROG Strix GL503GE-EN270T Gaming Laptop',\n",
              " 'Asus FX60VM-DM493T Laptop',\n",
              " 'Asus ROG Strix G G531GT-AL150T Gaming Laptop',\n",
              " 'Asus ROG Strix Hero II GL504GM-ES152T Laptop',\n",
              " 'Asus Zenbook 3 UX390UA-GS045T Laptop',\n",
              " 'Asus Zenbook Flip UX360UAK-DQ213T Laptop',\n",
              " 'Asus ZenBook 13 UX333FA-A7822TS Laptop',\n",
              " 'Asus R Series GA401II-BM131TS Notebook',\n",
              " 'Asus ZenBook 3 Deluxe UX490UA-BE045T Laptop',\n",
              " 'Asus Pro P5 P5440FA Laptop',\n",
              " 'Asus ROG Strix G731GT-AU059T Gaming Laptop',\n",
              " 'Asus ROG Strix G15 G512LI-HN086T Gaming Laptop',\n",
              " 'Asus ROG GL553VD-FY061T Laptop',\n",
              " 'Asus ROG Strix G15 G512LI-HN085T Gaming Laptop',\n",
              " 'Asus Zenbook UX330UA-FB088T Ultrabook',\n",
              " 'Asus ROG GL553VE-FY127T Notebook',\n",
              " 'Asus ZenBook UX425JA-BM701TS Laptop',\n",
              " 'Asus ZenBook 13 UX333FA Laptop',\n",
              " 'Asus FX505GM-ES065T Gaming Laptop',\n",
              " 'Asus VivoBook UM425IA-AM051TS Laptop',\n",
              " 'Asus ROG Strix G15 G512LI-HN057T Gaming Laptop',\n",
              " 'Asus ROG Zephyrus G14 GA401II-HE169TS Laptop',\n",
              " 'Asus ROG Strix G15 G512LI-HN060T Gaming Laptop',\n",
              " 'Asus Zenbook Flip UX360UAK-DQ210T Laptop',\n",
              " ...]"
            ]
          },
          "metadata": {
            "tags": []
          },
          "execution_count": 18
        }
      ]
    },
    {
      "cell_type": "code",
      "metadata": {
        "id": "oTk6vGAPZp0a"
      },
      "source": [
        "dataset_lap = pd.DataFrame(product)"
      ],
      "execution_count": 19,
      "outputs": []
    },
    {
      "cell_type": "code",
      "metadata": {
        "id": "8kcALnjWoGhK"
      },
      "source": [
        "columns = ['PRODUCT']"
      ],
      "execution_count": 20,
      "outputs": []
    },
    {
      "cell_type": "code",
      "metadata": {
        "id": "kV8Iw2CaoKNY"
      },
      "source": [
        "dataset_lap.columns = columns"
      ],
      "execution_count": 21,
      "outputs": []
    },
    {
      "cell_type": "code",
      "metadata": {
        "id": "7ZZIbUwKnj1M",
        "outputId": "e5b68884-6dd0-4fc8-d569-68e6260da4a4",
        "colab": {
          "base_uri": "https://localhost:8080/",
          "height": 419
        }
      },
      "source": [
        "dataset_lap"
      ],
      "execution_count": 22,
      "outputs": [
        {
          "output_type": "execute_result",
          "data": {
            "text/html": [
              "<div>\n",
              "<style scoped>\n",
              "    .dataframe tbody tr th:only-of-type {\n",
              "        vertical-align: middle;\n",
              "    }\n",
              "\n",
              "    .dataframe tbody tr th {\n",
              "        vertical-align: top;\n",
              "    }\n",
              "\n",
              "    .dataframe thead th {\n",
              "        text-align: right;\n",
              "    }\n",
              "</style>\n",
              "<table border=\"1\" class=\"dataframe\">\n",
              "  <thead>\n",
              "    <tr style=\"text-align: right;\">\n",
              "      <th></th>\n",
              "      <th>PRODUCT</th>\n",
              "    </tr>\n",
              "  </thead>\n",
              "  <tbody>\n",
              "    <tr>\n",
              "      <th>0</th>\n",
              "      <td>Acer Predator 21 X GX21-71 Laptop</td>\n",
              "    </tr>\n",
              "    <tr>\n",
              "      <th>1</th>\n",
              "      <td>Acer Predator Triton 700 PT715-51</td>\n",
              "    </tr>\n",
              "    <tr>\n",
              "      <th>2</th>\n",
              "      <td>Acer Predator Triton 900 Laptop</td>\n",
              "    </tr>\n",
              "    <tr>\n",
              "      <th>3</th>\n",
              "      <td>Acer Predator G9-793</td>\n",
              "    </tr>\n",
              "    <tr>\n",
              "      <th>4</th>\n",
              "      <td>Acer Predator Helios 700 Gaming Laptop</td>\n",
              "    </tr>\n",
              "    <tr>\n",
              "      <th>...</th>\n",
              "      <td>...</td>\n",
              "    </tr>\n",
              "    <tr>\n",
              "      <th>5587</th>\n",
              "      <td>Lenovo Legion Y520</td>\n",
              "    </tr>\n",
              "    <tr>\n",
              "      <th>5588</th>\n",
              "      <td>Lenovo G50-45</td>\n",
              "    </tr>\n",
              "    <tr>\n",
              "      <th>5589</th>\n",
              "      <td>Lenovo Ideapad Yoga 710</td>\n",
              "    </tr>\n",
              "    <tr>\n",
              "      <th>5590</th>\n",
              "      <td>Lenovo Ideapad 300</td>\n",
              "    </tr>\n",
              "    <tr>\n",
              "      <th>5591</th>\n",
              "      <td>Lenovo Ideapad 3 14IIL05 81WD00L1IN Laptop</td>\n",
              "    </tr>\n",
              "  </tbody>\n",
              "</table>\n",
              "<p>5592 rows × 1 columns</p>\n",
              "</div>"
            ],
            "text/plain": [
              "                                         PRODUCT\n",
              "0              Acer Predator 21 X GX21-71 Laptop\n",
              "1              Acer Predator Triton 700 PT715-51\n",
              "2                Acer Predator Triton 900 Laptop\n",
              "3                           Acer Predator G9-793\n",
              "4         Acer Predator Helios 700 Gaming Laptop\n",
              "...                                          ...\n",
              "5587                          Lenovo Legion Y520\n",
              "5588                               Lenovo G50-45\n",
              "5589                     Lenovo Ideapad Yoga 710\n",
              "5590                          Lenovo Ideapad 300\n",
              "5591  Lenovo Ideapad 3 14IIL05 81WD00L1IN Laptop\n",
              "\n",
              "[5592 rows x 1 columns]"
            ]
          },
          "metadata": {
            "tags": []
          },
          "execution_count": 22
        }
      ]
    },
    {
      "cell_type": "code",
      "metadata": {
        "id": "cT3N24yDaF4C"
      },
      "source": [
        "dataset.drop(columns= ['PRODUCT'],inplace=True )"
      ],
      "execution_count": 23,
      "outputs": []
    },
    {
      "cell_type": "code",
      "metadata": {
        "id": "ja_H1fYmoV4g"
      },
      "source": [
        "dataset.drop(columns= ['IMAGE'],inplace=True )"
      ],
      "execution_count": 24,
      "outputs": []
    },
    {
      "cell_type": "code",
      "metadata": {
        "id": "6KpUbkFgZ1RE",
        "outputId": "1f92abef-10d5-4c6d-d3a6-70f4ecd18192",
        "colab": {
          "base_uri": "https://localhost:8080/",
          "height": 419
        }
      },
      "source": [
        "dataset"
      ],
      "execution_count": 25,
      "outputs": [
        {
          "output_type": "execute_result",
          "data": {
            "text/html": [
              "<div>\n",
              "<style scoped>\n",
              "    .dataframe tbody tr th:only-of-type {\n",
              "        vertical-align: middle;\n",
              "    }\n",
              "\n",
              "    .dataframe tbody tr th {\n",
              "        vertical-align: top;\n",
              "    }\n",
              "\n",
              "    .dataframe thead th {\n",
              "        text-align: right;\n",
              "    }\n",
              "</style>\n",
              "<table border=\"1\" class=\"dataframe\">\n",
              "  <thead>\n",
              "    <tr style=\"text-align: right;\">\n",
              "      <th></th>\n",
              "      <th>BRAND</th>\n",
              "      <th>PROCESSOR</th>\n",
              "      <th>RAM</th>\n",
              "      <th>HDD</th>\n",
              "      <th>SSD</th>\n",
              "      <th>GRAPHIC_CARD</th>\n",
              "      <th>DISPLAY</th>\n",
              "      <th>OPERATING_SYSTEM</th>\n",
              "      <th>PRICE</th>\n",
              "    </tr>\n",
              "  </thead>\n",
              "  <tbody>\n",
              "    <tr>\n",
              "      <th>0</th>\n",
              "      <td>Acer</td>\n",
              "      <td>IntelCorei77thGen</td>\n",
              "      <td>64GB</td>\n",
              "      <td>1TB</td>\n",
              "      <td>1TB</td>\n",
              "      <td>16GBNVIDIAGraphicsCard</td>\n",
              "      <td>21.0</td>\n",
              "      <td>Windows10</td>\n",
              "      <td>700000</td>\n",
              "    </tr>\n",
              "    <tr>\n",
              "      <th>1</th>\n",
              "      <td>Acer</td>\n",
              "      <td>IntelCorei77thGen</td>\n",
              "      <td>16GB</td>\n",
              "      <td>NO</td>\n",
              "      <td>256GB</td>\n",
              "      <td>8GBNVIDIAGraphicsCard</td>\n",
              "      <td>15.6</td>\n",
              "      <td>Windows10</td>\n",
              "      <td>300000</td>\n",
              "    </tr>\n",
              "    <tr>\n",
              "      <th>2</th>\n",
              "      <td>Acer</td>\n",
              "      <td>IntelCorei78thGen</td>\n",
              "      <td>16GB</td>\n",
              "      <td>NO</td>\n",
              "      <td>256GB</td>\n",
              "      <td>8GBNVIDIAGraphicsCard</td>\n",
              "      <td>17.3</td>\n",
              "      <td>Windows10</td>\n",
              "      <td>300000</td>\n",
              "    </tr>\n",
              "    <tr>\n",
              "      <th>3</th>\n",
              "      <td>Acer</td>\n",
              "      <td>IntelCorei77thGen</td>\n",
              "      <td>16GB</td>\n",
              "      <td>NO</td>\n",
              "      <td>512GB</td>\n",
              "      <td>8GBNVIDIAGraphicsCard</td>\n",
              "      <td>17.3</td>\n",
              "      <td>Windows10</td>\n",
              "      <td>190000</td>\n",
              "    </tr>\n",
              "    <tr>\n",
              "      <th>4</th>\n",
              "      <td>Acer</td>\n",
              "      <td>IntelCorei99thGen</td>\n",
              "      <td>32GB</td>\n",
              "      <td>NO</td>\n",
              "      <td>2TB</td>\n",
              "      <td>8GBNVIDIAGraphicsCard</td>\n",
              "      <td>17.3</td>\n",
              "      <td>Windows10</td>\n",
              "      <td>188000</td>\n",
              "    </tr>\n",
              "    <tr>\n",
              "      <th>...</th>\n",
              "      <td>...</td>\n",
              "      <td>...</td>\n",
              "      <td>...</td>\n",
              "      <td>...</td>\n",
              "      <td>...</td>\n",
              "      <td>...</td>\n",
              "      <td>...</td>\n",
              "      <td>...</td>\n",
              "      <td>...</td>\n",
              "    </tr>\n",
              "    <tr>\n",
              "      <th>5587</th>\n",
              "      <td>Lenovo</td>\n",
              "      <td>IntelCorei57thGen</td>\n",
              "      <td>8GB</td>\n",
              "      <td>500GB</td>\n",
              "      <td>NO</td>\n",
              "      <td>IntelHDGraphics</td>\n",
              "      <td>15.6</td>\n",
              "      <td>Windows8</td>\n",
              "      <td>14994</td>\n",
              "    </tr>\n",
              "    <tr>\n",
              "      <th>5588</th>\n",
              "      <td>Lenovo</td>\n",
              "      <td>AMDA8-6410</td>\n",
              "      <td>8GB</td>\n",
              "      <td>64GB</td>\n",
              "      <td>64GB</td>\n",
              "      <td>IntegratedNVIDIAULPGeForce</td>\n",
              "      <td>11.6</td>\n",
              "      <td>Windows10</td>\n",
              "      <td>14500</td>\n",
              "    </tr>\n",
              "    <tr>\n",
              "      <th>5589</th>\n",
              "      <td>Lenovo</td>\n",
              "      <td>IntelCorei57200U7thGen</td>\n",
              "      <td>4GB</td>\n",
              "      <td>500GB</td>\n",
              "      <td>NO</td>\n",
              "      <td>IntelHDGraphics</td>\n",
              "      <td>10.1</td>\n",
              "      <td>Windows8</td>\n",
              "      <td>13990</td>\n",
              "    </tr>\n",
              "    <tr>\n",
              "      <th>5590</th>\n",
              "      <td>Lenovo</td>\n",
              "      <td>IntelCorei56thGen</td>\n",
              "      <td>4GB</td>\n",
              "      <td>1TB</td>\n",
              "      <td>NO</td>\n",
              "      <td>128MBIntelGraphicsCard</td>\n",
              "      <td>15.6</td>\n",
              "      <td>Windows10</td>\n",
              "      <td>12497</td>\n",
              "    </tr>\n",
              "    <tr>\n",
              "      <th>5591</th>\n",
              "      <td>Lenovo</td>\n",
              "      <td>IntelCorei310thGen</td>\n",
              "      <td>4GB</td>\n",
              "      <td>NO</td>\n",
              "      <td>32GB</td>\n",
              "      <td>IntelHDGraphics</td>\n",
              "      <td>10.1</td>\n",
              "      <td>Windows10</td>\n",
              "      <td>6244</td>\n",
              "    </tr>\n",
              "  </tbody>\n",
              "</table>\n",
              "<p>5592 rows × 9 columns</p>\n",
              "</div>"
            ],
            "text/plain": [
              "       BRAND               PROCESSOR   RAM  ... DISPLAY OPERATING_SYSTEM   PRICE\n",
              "0       Acer       IntelCorei77thGen  64GB  ...    21.0        Windows10  700000\n",
              "1       Acer       IntelCorei77thGen  16GB  ...    15.6        Windows10  300000\n",
              "2       Acer       IntelCorei78thGen  16GB  ...    17.3        Windows10  300000\n",
              "3       Acer       IntelCorei77thGen  16GB  ...    17.3        Windows10  190000\n",
              "4       Acer       IntelCorei99thGen  32GB  ...    17.3        Windows10  188000\n",
              "...      ...                     ...   ...  ...     ...              ...     ...\n",
              "5587  Lenovo       IntelCorei57thGen   8GB  ...    15.6         Windows8   14994\n",
              "5588  Lenovo              AMDA8-6410   8GB  ...    11.6        Windows10   14500\n",
              "5589  Lenovo  IntelCorei57200U7thGen   4GB  ...    10.1         Windows8   13990\n",
              "5590  Lenovo       IntelCorei56thGen   4GB  ...    15.6        Windows10   12497\n",
              "5591  Lenovo      IntelCorei310thGen   4GB  ...    10.1        Windows10    6244\n",
              "\n",
              "[5592 rows x 9 columns]"
            ]
          },
          "metadata": {
            "tags": []
          },
          "execution_count": 25
        }
      ]
    },
    {
      "cell_type": "code",
      "metadata": {
        "id": "3R3O1CmNclwM",
        "outputId": "ee533ae4-b476-4ad4-d82c-0fbf3d6b5eb9",
        "colab": {
          "base_uri": "https://localhost:8080/"
        }
      },
      "source": [
        "dataset.shape"
      ],
      "execution_count": 26,
      "outputs": [
        {
          "output_type": "execute_result",
          "data": {
            "text/plain": [
              "(5592, 9)"
            ]
          },
          "metadata": {
            "tags": []
          },
          "execution_count": 26
        }
      ]
    },
    {
      "cell_type": "code",
      "metadata": {
        "id": "0vwuTbdzdi6_",
        "outputId": "121cc7f6-8fb0-440b-840d-4eea5b9bcc07",
        "colab": {
          "base_uri": "https://localhost:8080/",
          "height": 35
        }
      },
      "source": [
        "dataset['PROCESSOR'][0]"
      ],
      "execution_count": 27,
      "outputs": [
        {
          "output_type": "execute_result",
          "data": {
            "application/vnd.google.colaboratory.intrinsic+json": {
              "type": "string"
            },
            "text/plain": [
              "'IntelCorei77thGen'"
            ]
          },
          "metadata": {
            "tags": []
          },
          "execution_count": 27
        }
      ]
    },
    {
      "cell_type": "code",
      "metadata": {
        "id": "Yg2ncsTQhVLf",
        "outputId": "8d59fd2f-dc46-4f80-a632-85580b24eed5",
        "colab": {
          "base_uri": "https://localhost:8080/"
        }
      },
      "source": [
        "[dataset[i][2] for i in dataset.columns]"
      ],
      "execution_count": 28,
      "outputs": [
        {
          "output_type": "execute_result",
          "data": {
            "text/plain": [
              "['Acer',\n",
              " 'IntelCorei78thGen',\n",
              " '16GB',\n",
              " 'NO',\n",
              " '256GB',\n",
              " '8GBNVIDIAGraphicsCard',\n",
              " '17.3',\n",
              " 'Windows10',\n",
              " '300000']"
            ]
          },
          "metadata": {
            "tags": []
          },
          "execution_count": 28
        }
      ]
    },
    {
      "cell_type": "code",
      "metadata": {
        "id": "p5fFlONljZFn",
        "outputId": "a4a2064e-29c9-4e43-cc04-a9f6cf880651",
        "colab": {
          "base_uri": "https://localhost:8080/"
        }
      },
      "source": [
        "dataset.columns"
      ],
      "execution_count": 29,
      "outputs": [
        {
          "output_type": "execute_result",
          "data": {
            "text/plain": [
              "Index(['BRAND', 'PROCESSOR', 'RAM', 'HDD', 'SSD', 'GRAPHIC_CARD', 'DISPLAY',\n",
              "       'OPERATING_SYSTEM', 'PRICE'],\n",
              "      dtype='object')"
            ]
          },
          "metadata": {
            "tags": []
          },
          "execution_count": 29
        }
      ]
    },
    {
      "cell_type": "code",
      "metadata": {
        "id": "tfUPGpsLj7UB"
      },
      "source": [
        "lst = []\n",
        "for k in range(dataset.shape[0]):\n",
        "   n = [dataset[i][k] for i in dataset.columns]\n",
        "   n = ' '.join(n)\n",
        "   lst.append(n)"
      ],
      "execution_count": 30,
      "outputs": []
    },
    {
      "cell_type": "code",
      "metadata": {
        "id": "b3lcZeUgkeme",
        "outputId": "1e0de380-0a65-4b31-bca3-afb0188f8370",
        "colab": {
          "base_uri": "https://localhost:8080/",
          "height": 35
        }
      },
      "source": [
        "lst[0]"
      ],
      "execution_count": 31,
      "outputs": [
        {
          "output_type": "execute_result",
          "data": {
            "application/vnd.google.colaboratory.intrinsic+json": {
              "type": "string"
            },
            "text/plain": [
              "'Acer IntelCorei77thGen 64GB 1TB 1TB 16GBNVIDIAGraphicsCard 21.0 Windows10 700000'"
            ]
          },
          "metadata": {
            "tags": []
          },
          "execution_count": 31
        }
      ]
    },
    {
      "cell_type": "code",
      "metadata": {
        "id": "AOwN90iGwzPE",
        "outputId": "417fad4a-7525-444b-dcd9-782cafe19a0d",
        "colab": {
          "base_uri": "https://localhost:8080/"
        }
      },
      "source": [
        "len(lst)"
      ],
      "execution_count": 32,
      "outputs": [
        {
          "output_type": "execute_result",
          "data": {
            "text/plain": [
              "5592"
            ]
          },
          "metadata": {
            "tags": []
          },
          "execution_count": 32
        }
      ]
    },
    {
      "cell_type": "code",
      "metadata": {
        "id": "feY84-PMjk_7"
      },
      "source": [
        "dataset_spec = pd.DataFrame(lst)"
      ],
      "execution_count": 33,
      "outputs": []
    },
    {
      "cell_type": "code",
      "metadata": {
        "id": "GL6ZJamvo3We",
        "outputId": "d2e4c592-52bf-43b8-8daf-d4b52f83ac39",
        "colab": {
          "base_uri": "https://localhost:8080/",
          "height": 419
        }
      },
      "source": [
        "dataset_spec"
      ],
      "execution_count": 34,
      "outputs": [
        {
          "output_type": "execute_result",
          "data": {
            "text/html": [
              "<div>\n",
              "<style scoped>\n",
              "    .dataframe tbody tr th:only-of-type {\n",
              "        vertical-align: middle;\n",
              "    }\n",
              "\n",
              "    .dataframe tbody tr th {\n",
              "        vertical-align: top;\n",
              "    }\n",
              "\n",
              "    .dataframe thead th {\n",
              "        text-align: right;\n",
              "    }\n",
              "</style>\n",
              "<table border=\"1\" class=\"dataframe\">\n",
              "  <thead>\n",
              "    <tr style=\"text-align: right;\">\n",
              "      <th></th>\n",
              "      <th>0</th>\n",
              "    </tr>\n",
              "  </thead>\n",
              "  <tbody>\n",
              "    <tr>\n",
              "      <th>0</th>\n",
              "      <td>Acer IntelCorei77thGen 64GB 1TB 1TB 16GBNVIDIA...</td>\n",
              "    </tr>\n",
              "    <tr>\n",
              "      <th>1</th>\n",
              "      <td>Acer IntelCorei77thGen 16GB NO 256GB 8GBNVIDIA...</td>\n",
              "    </tr>\n",
              "    <tr>\n",
              "      <th>2</th>\n",
              "      <td>Acer IntelCorei78thGen 16GB NO 256GB 8GBNVIDIA...</td>\n",
              "    </tr>\n",
              "    <tr>\n",
              "      <th>3</th>\n",
              "      <td>Acer IntelCorei77thGen 16GB NO 512GB 8GBNVIDIA...</td>\n",
              "    </tr>\n",
              "    <tr>\n",
              "      <th>4</th>\n",
              "      <td>Acer IntelCorei99thGen 32GB NO 2TB 8GBNVIDIAGr...</td>\n",
              "    </tr>\n",
              "    <tr>\n",
              "      <th>...</th>\n",
              "      <td>...</td>\n",
              "    </tr>\n",
              "    <tr>\n",
              "      <th>5587</th>\n",
              "      <td>Lenovo IntelCorei57thGen 8GB 500GB NO IntelHDG...</td>\n",
              "    </tr>\n",
              "    <tr>\n",
              "      <th>5588</th>\n",
              "      <td>Lenovo AMDA8-6410 8GB 64GB 64GB IntegratedNVID...</td>\n",
              "    </tr>\n",
              "    <tr>\n",
              "      <th>5589</th>\n",
              "      <td>Lenovo IntelCorei57200U7thGen 4GB 500GB NO Int...</td>\n",
              "    </tr>\n",
              "    <tr>\n",
              "      <th>5590</th>\n",
              "      <td>Lenovo IntelCorei56thGen 4GB 1TB NO 128MBIntel...</td>\n",
              "    </tr>\n",
              "    <tr>\n",
              "      <th>5591</th>\n",
              "      <td>Lenovo IntelCorei310thGen 4GB NO 32GB IntelHDG...</td>\n",
              "    </tr>\n",
              "  </tbody>\n",
              "</table>\n",
              "<p>5592 rows × 1 columns</p>\n",
              "</div>"
            ],
            "text/plain": [
              "                                                      0\n",
              "0     Acer IntelCorei77thGen 64GB 1TB 1TB 16GBNVIDIA...\n",
              "1     Acer IntelCorei77thGen 16GB NO 256GB 8GBNVIDIA...\n",
              "2     Acer IntelCorei78thGen 16GB NO 256GB 8GBNVIDIA...\n",
              "3     Acer IntelCorei77thGen 16GB NO 512GB 8GBNVIDIA...\n",
              "4     Acer IntelCorei99thGen 32GB NO 2TB 8GBNVIDIAGr...\n",
              "...                                                 ...\n",
              "5587  Lenovo IntelCorei57thGen 8GB 500GB NO IntelHDG...\n",
              "5588  Lenovo AMDA8-6410 8GB 64GB 64GB IntegratedNVID...\n",
              "5589  Lenovo IntelCorei57200U7thGen 4GB 500GB NO Int...\n",
              "5590  Lenovo IntelCorei56thGen 4GB 1TB NO 128MBIntel...\n",
              "5591  Lenovo IntelCorei310thGen 4GB NO 32GB IntelHDG...\n",
              "\n",
              "[5592 rows x 1 columns]"
            ]
          },
          "metadata": {
            "tags": []
          },
          "execution_count": 34
        }
      ]
    },
    {
      "cell_type": "code",
      "metadata": {
        "id": "6WjrOjKSoviS"
      },
      "source": [
        "clmn = ['SPecification']"
      ],
      "execution_count": 35,
      "outputs": []
    },
    {
      "cell_type": "code",
      "metadata": {
        "id": "uso8XCfporUH"
      },
      "source": [
        "dataset_spec.columns = clmn"
      ],
      "execution_count": 36,
      "outputs": []
    },
    {
      "cell_type": "code",
      "metadata": {
        "id": "vHgdWbxYqrlb",
        "outputId": "bcac9f49-e117-41c2-8fd4-cba8d0faa143",
        "colab": {
          "base_uri": "https://localhost:8080/",
          "height": 204
        }
      },
      "source": [
        "dataset_spec.head()"
      ],
      "execution_count": 37,
      "outputs": [
        {
          "output_type": "execute_result",
          "data": {
            "text/html": [
              "<div>\n",
              "<style scoped>\n",
              "    .dataframe tbody tr th:only-of-type {\n",
              "        vertical-align: middle;\n",
              "    }\n",
              "\n",
              "    .dataframe tbody tr th {\n",
              "        vertical-align: top;\n",
              "    }\n",
              "\n",
              "    .dataframe thead th {\n",
              "        text-align: right;\n",
              "    }\n",
              "</style>\n",
              "<table border=\"1\" class=\"dataframe\">\n",
              "  <thead>\n",
              "    <tr style=\"text-align: right;\">\n",
              "      <th></th>\n",
              "      <th>SPecification</th>\n",
              "    </tr>\n",
              "  </thead>\n",
              "  <tbody>\n",
              "    <tr>\n",
              "      <th>0</th>\n",
              "      <td>Acer IntelCorei77thGen 64GB 1TB 1TB 16GBNVIDIA...</td>\n",
              "    </tr>\n",
              "    <tr>\n",
              "      <th>1</th>\n",
              "      <td>Acer IntelCorei77thGen 16GB NO 256GB 8GBNVIDIA...</td>\n",
              "    </tr>\n",
              "    <tr>\n",
              "      <th>2</th>\n",
              "      <td>Acer IntelCorei78thGen 16GB NO 256GB 8GBNVIDIA...</td>\n",
              "    </tr>\n",
              "    <tr>\n",
              "      <th>3</th>\n",
              "      <td>Acer IntelCorei77thGen 16GB NO 512GB 8GBNVIDIA...</td>\n",
              "    </tr>\n",
              "    <tr>\n",
              "      <th>4</th>\n",
              "      <td>Acer IntelCorei99thGen 32GB NO 2TB 8GBNVIDIAGr...</td>\n",
              "    </tr>\n",
              "  </tbody>\n",
              "</table>\n",
              "</div>"
            ],
            "text/plain": [
              "                                       SPecification\n",
              "0  Acer IntelCorei77thGen 64GB 1TB 1TB 16GBNVIDIA...\n",
              "1  Acer IntelCorei77thGen 16GB NO 256GB 8GBNVIDIA...\n",
              "2  Acer IntelCorei78thGen 16GB NO 256GB 8GBNVIDIA...\n",
              "3  Acer IntelCorei77thGen 16GB NO 512GB 8GBNVIDIA...\n",
              "4  Acer IntelCorei99thGen 32GB NO 2TB 8GBNVIDIAGr..."
            ]
          },
          "metadata": {
            "tags": []
          },
          "execution_count": 37
        }
      ]
    },
    {
      "cell_type": "code",
      "metadata": {
        "id": "dcyecfxXqzQ5",
        "outputId": "fc303bbe-e254-4764-c278-1f19808d8137",
        "colab": {
          "base_uri": "https://localhost:8080/",
          "height": 35
        }
      },
      "source": [
        "dataset_spec['SPecification'][0]"
      ],
      "execution_count": 38,
      "outputs": [
        {
          "output_type": "execute_result",
          "data": {
            "application/vnd.google.colaboratory.intrinsic+json": {
              "type": "string"
            },
            "text/plain": [
              "'Acer IntelCorei77thGen 64GB 1TB 1TB 16GBNVIDIAGraphicsCard 21.0 Windows10 700000'"
            ]
          },
          "metadata": {
            "tags": []
          },
          "execution_count": 38
        }
      ]
    },
    {
      "cell_type": "code",
      "metadata": {
        "id": "ZInJBgMcuKHl"
      },
      "source": [
        "\n",
        "from sklearn.feature_extraction.text import TfidfVectorizer\n",
        "vectorizer = TfidfVectorizer()\n",
        "X = vectorizer.fit_transform(dataset_spec['SPecification'])"
      ],
      "execution_count": 39,
      "outputs": []
    },
    {
      "cell_type": "code",
      "metadata": {
        "id": "8CXmVZCFuOw2",
        "outputId": "8e0224be-bfb6-432b-c1b2-2b667d01de70",
        "colab": {
          "base_uri": "https://localhost:8080/"
        }
      },
      "source": [
        "X.shape"
      ],
      "execution_count": 40,
      "outputs": [
        {
          "output_type": "execute_result",
          "data": {
            "text/plain": [
              "(5592, 3301)"
            ]
          },
          "metadata": {
            "tags": []
          },
          "execution_count": 40
        }
      ]
    },
    {
      "cell_type": "code",
      "metadata": {
        "id": "Y9B5BuY6ygXZ"
      },
      "source": [
        "from sklearn.metrics.pairwise import cosine_similarity\n",
        "similarity = cosine_similarity(X , X)\n"
      ],
      "execution_count": 41,
      "outputs": []
    },
    {
      "cell_type": "code",
      "metadata": {
        "id": "A0y2Zuopyl_H",
        "outputId": "5ca68df4-5c77-4be9-b2a0-67bc4369ce5b",
        "colab": {
          "base_uri": "https://localhost:8080/"
        }
      },
      "source": [
        "\n",
        "similarity.shape"
      ],
      "execution_count": 42,
      "outputs": [
        {
          "output_type": "execute_result",
          "data": {
            "text/plain": [
              "(5592, 5592)"
            ]
          },
          "metadata": {
            "tags": []
          },
          "execution_count": 42
        }
      ]
    },
    {
      "cell_type": "code",
      "metadata": {
        "id": "rQDGMQiCypHf"
      },
      "source": [
        "lap = dataset_lap['PRODUCT']"
      ],
      "execution_count": 43,
      "outputs": []
    },
    {
      "cell_type": "code",
      "metadata": {
        "id": "TXRSuESeytzm"
      },
      "source": [
        "indices = pd.Series(dataset_lap.index , lap)"
      ],
      "execution_count": 44,
      "outputs": []
    },
    {
      "cell_type": "code",
      "metadata": {
        "id": "b_Qn6NNcy1I9",
        "outputId": "64df802e-69ec-4d28-c533-9bd9cd251d3b",
        "colab": {
          "base_uri": "https://localhost:8080/"
        }
      },
      "source": [
        "indices"
      ],
      "execution_count": 45,
      "outputs": [
        {
          "output_type": "execute_result",
          "data": {
            "text/plain": [
              "PRODUCT\n",
              "Acer Predator 21 X GX21-71 Laptop                0\n",
              "Acer Predator Triton 700 PT715-51                1\n",
              "Acer Predator Triton 900 Laptop                  2\n",
              "Acer Predator G9-793                             3\n",
              "Acer Predator Helios 700 Gaming Laptop           4\n",
              "                                              ... \n",
              "Lenovo Legion Y520                            5587\n",
              "Lenovo G50-45                                 5588\n",
              "Lenovo Ideapad Yoga 710                       5589\n",
              "Lenovo Ideapad 300                            5590\n",
              "Lenovo Ideapad 3 14IIL05 81WD00L1IN Laptop    5591\n",
              "Length: 5592, dtype: int64"
            ]
          },
          "metadata": {
            "tags": []
          },
          "execution_count": 45
        }
      ]
    },
    {
      "cell_type": "code",
      "metadata": {
        "id": "2MYt2hPxy6J9"
      },
      "source": [
        "def recommender(title):\n",
        "  index = indices[title]\n",
        "  similarity_score = list(enumerate(similarity[index]))\n",
        "  similarity_score = sorted(similarity_score , key=lambda x:x[1] , reverse=True)\n",
        "  similarity_score = similarity_score[1:31]\n",
        "  lap_indices = [i[0] for i in similarity_score]\n",
        "  return lap.iloc[lap_indices]"
      ],
      "execution_count": 46,
      "outputs": []
    },
    {
      "cell_type": "code",
      "metadata": {
        "id": "BCGakPHWzHIc",
        "outputId": "66f14faa-f673-46f0-a7fc-cf6002927905",
        "colab": {
          "base_uri": "https://localhost:8080/",
          "height": 35
        }
      },
      "source": [
        "dataset_lap['PRODUCT'][0]"
      ],
      "execution_count": 47,
      "outputs": [
        {
          "output_type": "execute_result",
          "data": {
            "application/vnd.google.colaboratory.intrinsic+json": {
              "type": "string"
            },
            "text/plain": [
              "'Acer Predator 21 X GX21-71 Laptop'"
            ]
          },
          "metadata": {
            "tags": []
          },
          "execution_count": 47
        }
      ]
    },
    {
      "cell_type": "code",
      "metadata": {
        "id": "8YDrpf4azEbv",
        "outputId": "47288744-5005-4f0e-ea1c-ccba510b7bd9",
        "colab": {
          "base_uri": "https://localhost:8080/"
        }
      },
      "source": [
        "recommender('Acer Predator 21 X GX21-71 Laptop')"
      ],
      "execution_count": 48,
      "outputs": [
        {
          "output_type": "execute_result",
          "data": {
            "text/plain": [
              "133               Acer Predator Helios PH315-51\n",
              "120                 Acer Aspire 5 A515-52G-514L\n",
              "5588                              Lenovo G50-45\n",
              "3494               HP Pavilion 15-n213TU Laptop\n",
              "4728      Lenovo Thinkpad P53 20QQS0JD0C Laptop\n",
              "108                       Acer Nitro 5 AN515-51\n",
              "19                   Acer Swift 5 SF514-51-706K\n",
              "3267               HP Compaq 15-s001TU Notebook\n",
              "1821    Asus Eeebook Flip E205SA-FV0142T Laptop\n",
              "105                           Acer Aspire VX 15\n",
              "4109            HP Chromebook x360 14b-ca0015tu\n",
              "146                               Acer SF314-51\n",
              "150                       Acer Nitro 5 AN515-51\n",
              "23                         Acer Spin 7 SP714-51\n",
              "3753            HP Chromebook 14-ca003TU Laptop\n",
              "3496         HP Pavilion x360 14-ba078tx Laptop\n",
              "3355                HP Envy X2 11-G004TU Laptop\n",
              "170              Acer Nitro 5 AN515-51 Notebook\n",
              "1253           Asus ROG GL553VD-FY103T Notebook\n",
              "1255                 Asus FX503VD-DM111T Laptop\n",
              "1257                  Asus FX553VD-DM013 Laptop\n",
              "173                       Acer Nitro 5 AN515-51\n",
              "1052           Asus ROG GL553VE-FY047T Notebook\n",
              "21                         Acer Predator G9-593\n",
              "57               Acer Nitro 5 AN515-51 Notebook\n",
              "1192                  Asus FX553VD-DM013 Laptop\n",
              "76                     Acer Predator Triton 700\n",
              "64                                  Acer G3-572\n",
              "5484                  Lenovo Ideapad 320S-14IKB\n",
              "3447     HP Chromebook x360 12b-ca0006TU Laptop\n",
              "Name: PRODUCT, dtype: object"
            ]
          },
          "metadata": {
            "tags": []
          },
          "execution_count": 48
        }
      ]
    }
  ]
}